{
  "nbformat": 4,
  "nbformat_minor": 0,
  "metadata": {
    "colab": {
      "name": "Sequence Generation.ipynb",
      "provenance": [],
      "collapsed_sections": [],
      "include_colab_link": true
    },
    "kernelspec": {
      "name": "python3",
      "display_name": "Python 3"
    },
    "language_info": {
      "name": "python"
    }
  },
  "cells": [
    {
      "cell_type": "markdown",
      "metadata": {
        "id": "view-in-github",
        "colab_type": "text"
      },
      "source": [
        "<a href=\"https://colab.research.google.com/github/lizzij/GFlowNets-DNA-Motif/blob/main/Sequence_Generation.ipynb\" target=\"_parent\"><img src=\"https://colab.research.google.com/assets/colab-badge.svg\" alt=\"Open In Colab\"/></a>"
      ]
    },
    {
      "cell_type": "markdown",
      "source": [
        "@Author TODO"
      ],
      "metadata": {
        "id": "1v3D9FKodtfJ"
      }
    },
    {
      "cell_type": "markdown",
      "source": [
        "**Generate multiples of $n=5$ (of maximum length $l=4$)**"
      ],
      "metadata": {
        "id": "Idu6kxEBnuq8"
      }
    },
    {
      "cell_type": "markdown",
      "source": [
        "\n",
        "\n",
        "$$\\mathcal{X} = \\{0000, ....,9999\\}$$\n",
        "\n",
        "The numbers are constructed autoregressively starting from an initial state (`[BOS]`) and adding each time a digit between 0 and 9 at the end of the already constructed number. The process continues until a special symbol is generated (`[EOS]`) or until the number is of length $l$. As a reward function, we can decide to give a score of $1$ to the multiple of $n$, and a lower and lower score when the considered number is far from a multiple of $n$. A suitable reward function in this case is $R(x) = \\lambda^ { - min \\{x-n*q_n(x) \\text{, } n*(q_n(x)+1)-x \\}}$ where $q_n(x)$ is the quotient of the Euclidean division of $x$ by $n$, and $\\lambda > 1$.\n",
        "\n",
        "For $n=5$ and $\\lambda = 2$ :\n",
        "$R(x) = \\left\\{\n",
        "    \\begin{array}{ll}\n",
        "        1 & \\mbox{if } x = 5k \\\\\n",
        "        2^{-1} & \\mbox{if } x=5k+1 \\mbox{ or } x=5k+4=5(k+1)-1 \\\\\n",
        "        2^{-2} & \\mbox{if } x=5k+2 \\mbox{ or } x=5k+3=5(k+1)-2\n",
        "    \\end{array} \\ (k \\in \\mathbb{N})\n",
        "\\right.$\n",
        "\n",
        "\n",
        "\n"
      ],
      "metadata": {
        "id": "7i2-MVjWmqPT"
      }
    },
    {
      "cell_type": "markdown",
      "source": [
        "$$Z = \\sum_{x \\in \\mathcal{X}}R(x) = \\ ...$$"
      ],
      "metadata": {
        "id": "fEUBkHrwnjWi"
      }
    },
    {
      "cell_type": "markdown",
      "source": [
        "$$\\pi(x)=\\frac{R(x)}{Z} = \\left\\{\n",
        "    \\begin{array}{ll}\n",
        "        \\frac{1}{Z} & \\mbox{if } x = 5k \\\\\n",
        "        \\frac{1}{2Z} & \\mbox{if } x=5k+1 \\mbox{ or } x=5k+4 \\\\\n",
        "        \\frac{1}{4Z} & \\mbox{if } x=5k+2 \\mbox{ or } x=5k+3\n",
        "    \\end{array} \\ (k \\in \\mathbb{N})\n",
        "\\right.$$"
      ],
      "metadata": {
        "id": "rITBby46nhhk"
      }
    },
    {
      "cell_type": "markdown",
      "source": [
        ""
      ],
      "metadata": {
        "id": "yKOgKOXtmoNZ"
      }
    },
    {
      "cell_type": "code",
      "source": [
        "import torch"
      ],
      "metadata": {
        "id": "0PamKOT9oeni"
      },
      "execution_count": null,
      "outputs": []
    },
    {
      "cell_type": "code",
      "source": [
        "def reward_function(x, a, lambda_ = 2, R_0 = 1e-6):\n",
        "    q = x // a \n",
        "    return lambda_**-min(x-a*q, a*(q+1)-x) + R_0\n",
        "\n",
        "def reward_function11(state, a, lambda_ = 2):\n",
        "    \"\"\"state : (bs, slen)\"\"\"\n",
        "    r = torch.Tensor([reward_function(s, a, lambda_) for s in [float(\"\".join([str(s_i) for s_i in s])) for s in state.tolist()]])\n",
        "    return r\n",
        "\n",
        "def reward_function22(state, a, lambda_ = 2):\n",
        "    \"\"\"state : (bs, slen)\"\"\"\n",
        "    r = torch.Tensor([reward_function(s, a, lambda_) for s in state])\n",
        "    return r"
      ],
      "metadata": {
        "id": "TbmSGXBjgBmx"
      },
      "execution_count": null,
      "outputs": []
    },
    {
      "cell_type": "code",
      "source": [
        "# n\n",
        "#reward_coef = 5\n",
        "reward_coef = 11\n",
        "\n",
        "\n",
        "vocab = [\"0\", \"1\", \"2\", \"3\", \"4\", \"5\", \"6\", \"7\", \"8\", '9', '.', ','] # # eos and pad tokens\n",
        "pad_index = 10\n",
        "eos_index = 10 + 1\n",
        "\n",
        "vocab_size = len(vocab)\n",
        "max_length = 4+1  # here 1 is BOS"
      ],
      "metadata": {
        "id": "dTzHbLRfT0az"
      },
      "execution_count": null,
      "outputs": []
    },
    {
      "cell_type": "code",
      "source": [
        "xs = torch.arange(0, int(\"\".join([\"9\"]*max_length)))\n",
        "all_rewards = reward_function22(xs, reward_coef)\n",
        "print('total reward', xs, all_rewards.view(-1).logsumexp(0))\n",
        "true_dist = all_rewards.softmax(0).cpu().numpy()\n",
        "print('true dist', true_dist)"
      ],
      "metadata": {
        "colab": {
          "base_uri": "https://localhost:8080/"
        },
        "id": "n3t_4E5-UA0l",
        "outputId": "8505d721-2d06-4780-a1e4-0866647d75eb"
      },
      "execution_count": null,
      "outputs": [
        {
          "output_type": "stream",
          "name": "stderr",
          "text": [
            "/usr/local/lib/python3.7/dist-packages/ipykernel_launcher.py:2: UserWarning: __floordiv__ is deprecated, and its behavior will change in a future version of pytorch. It currently rounds toward 0 (like the 'trunc' function NOT 'floor'). This results in incorrect rounding for negative values. To keep the current behavior, use torch.div(a, b, rounding_mode='trunc'), or for actual floor division, use torch.div(a, b, rounding_mode='floor').\n",
            "  \n"
          ]
        },
        {
          "output_type": "stream",
          "name": "stdout",
          "text": [
            "total reward tensor([    0,     1,     2,  ..., 99996, 99997, 99998]) tensor(11.6581)\n",
            "true dist [2.3511759e-05 8.6494929e-06 8.6494929e-06 ... 8.6494929e-06 8.6494929e-06\n",
            " 8.6494929e-06]\n"
          ]
        }
      ]
    },
    {
      "cell_type": "code",
      "source": [
        "tk = torch.tensor(all_rewards).topk(k=20)\n",
        "modes = tk.indices\n",
        "print(modes)\n",
        "print(tk.values)"
      ],
      "metadata": {
        "colab": {
          "base_uri": "https://localhost:8080/"
        },
        "id": "FTBbbNmxDN38",
        "outputId": "4f234eed-dc6b-454c-d224-fd8f0a206c2c"
      },
      "execution_count": null,
      "outputs": [
        {
          "output_type": "stream",
          "name": "stdout",
          "text": [
            "tensor([121,  77, 110, 154,  44, 143,  88, 198,  11,  55, 165,  22, 176, 132,\n",
            "        187,  99, 209,  66,  33,   0])\n",
            "tensor([1.0000, 1.0000, 1.0000, 1.0000, 1.0000, 1.0000, 1.0000, 1.0000, 1.0000,\n",
            "        1.0000, 1.0000, 1.0000, 1.0000, 1.0000, 1.0000, 1.0000, 1.0000, 1.0000,\n",
            "        1.0000, 1.0000])\n"
          ]
        },
        {
          "output_type": "stream",
          "name": "stderr",
          "text": [
            "/usr/local/lib/python3.7/dist-packages/ipykernel_launcher.py:1: UserWarning: To copy construct from a tensor, it is recommended to use sourceTensor.clone().detach() or sourceTensor.clone().detach().requires_grad_(True), rather than torch.tensor(sourceTensor).\n",
            "  \"\"\"Entry point for launching an IPython kernel.\n"
          ]
        }
      ]
    },
    {
      "cell_type": "code",
      "source": [
        "import matplotlib.pyplot as plt\n",
        "figsize=(15+5,3*4)\n",
        "fig, ax1 = plt.subplots(1, 1, sharex=False, sharey=False, figsize = figsize)\n",
        "\n",
        "# observe 20 modes\n",
        "ax1.plot(xs[:20*reward_coef], all_rewards[:20*reward_coef], label=\"Rewards distribution\")\n",
        "ax1.set(xlabel='states', ylabel='rewards')\n",
        "#ax1.set_title('...')\n",
        "ax1.legend()"
      ],
      "metadata": {
        "colab": {
          "base_uri": "https://localhost:8080/",
          "height": 726
        },
        "id": "l_JC-0ElUZwc",
        "outputId": "1ebafb1a-4efc-40fc-e57f-c06d0afa26d5"
      },
      "execution_count": null,
      "outputs": [
        {
          "output_type": "execute_result",
          "data": {
            "text/plain": [
              "<matplotlib.legend.Legend at 0x7fbb5f8a4890>"
            ]
          },
          "metadata": {},
          "execution_count": 58
        },
        {
          "output_type": "display_data",
          "data": {
            "text/plain": [
              "<Figure size 1440x864 with 1 Axes>"
            ],
            "image/png": "[encoded data removed]"
          },
          "metadata": {
            "needs_background": "light"
          }
        }
      ]
    },
    {
      "cell_type": "markdown",
      "source": [
        "#### Model"
      ],
      "metadata": {
        "id": "LU8yYCo3VOKt"
      }
    },
    {
      "cell_type": "code",
      "source": [
        "import torch\n",
        "import torch.nn as nn\n",
        "import torch.nn.functional as F\n",
        "\n",
        "import math\n",
        "import itertools\n",
        "import numpy as np\n",
        "\n",
        "def Embedding(num_embeddings, embedding_dim, padding_idx=None):\n",
        "    m = nn.Embedding(num_embeddings, embedding_dim, padding_idx=padding_idx)\n",
        "    nn.init.normal_(m.weight, mean=0, std=embedding_dim ** -0.5)\n",
        "    if padding_idx is not None:\n",
        "        nn.init.constant_(m.weight[padding_idx], 0)\n",
        "    return m\n",
        "\n",
        "def get_padding_masks(slen, lengths):\n",
        "    \"\"\"\n",
        "    Generate hidden states mask\n",
        "    \"\"\"\n",
        "    assert lengths.max().item() <= slen\n",
        "    bs = lengths.size(0)\n",
        "    alen = torch.arange(slen, dtype=torch.long, device=lengths.device)\n",
        "    mask = alen < lengths[:, None]\n",
        "    # sanity check\n",
        "    assert mask.size() == (bs, slen)\n",
        "    return mask\n",
        "\n",
        "class TransformerModel(nn.Module):\n",
        "\n",
        "    # params : n_words, eos_index, pad_index, emb_dim\n",
        "\n",
        "    def __init__(self, params, transformer_layers):\n",
        "        \"\"\"\n",
        "        Transformer model \n",
        "        \"\"\"\n",
        "        super().__init__()\n",
        "        # embeddings : one hot is better in this case\n",
        "        self.embeddings = Embedding(params.n_words, params.emb_dim, padding_idx=params.pad_index)\n",
        "        # This can be replace by transformer model from torch.nn, huggingface transoformer ...\n",
        "        self.transformer = transformer_layers\n",
        "\n",
        "    def forward(self, x, lengths):\n",
        "        \"\"\"\n",
        "        Inputs:\n",
        "            `x` LongTensor(bs, slen), containing word indices\n",
        "            `lengths` LongTensor(bs), containing the length of each sentence\n",
        "        \"\"\"\n",
        "        #padding_mask = x != self.pad_index\n",
        "        #lengths = padding_mask.long().sum(dim=1).to(x.device)\n",
        "        \n",
        "        # check inputs\n",
        "        bs, slen = x.size()\n",
        "        assert lengths.size(0) == bs\n",
        "        assert lengths.max().item() <= slen\n",
        "\n",
        "        # generate masks\n",
        "        mask = get_padding_masks(slen, lengths)\n",
        "\n",
        "        # embeddings\n",
        "        tensor = self.embeddings(x)\n",
        "        tensor *= mask.unsqueeze(-1).to(tensor.dtype)\n",
        "        \n",
        "        # transformer layers\n",
        "        tensor = self.transformer(tensor)\n",
        "        \n",
        "        return tensor"
      ],
      "metadata": {
        "id": "ZAKXfv4zVPoq"
      },
      "execution_count": null,
      "outputs": []
    },
    {
      "cell_type": "code",
      "source": [
        "# # For understanding the model\n",
        "# x = torch.tensor([[1, 2, 3, 4, 4, 4], [2, 3, 4, 4, 4, 4], [0, 1, 1, 3, 4, 4]])\n",
        "# bs, slen = x.size()\n",
        "# vocab = ['0', '1', '2', '.', ',']  # \".\" is EOS, \",\" is padding \n",
        "# vocab_size = len(vocab)\n",
        "# emb_dim = 7\n",
        "\n",
        "# class AttrDict(dict):\n",
        "#     def __init__(self, *args, **kwargs):\n",
        "#         super(AttrDict, self).__init__(*args, **kwargs)\n",
        "#         self.__dict__ = self\n",
        "# params = AttrDict({\n",
        "#     \"n_words\": vocab_size,  # num_embeddings (int) – size of the dictionary of embeddings\n",
        "#     \"pad_index\" : 4,  \n",
        "#     \"eos_index\" : 3, \n",
        "#     \"emb_dim\" : emb_dim,  # embedding_dim (int) – the size of each embedding vector\n",
        "# })\n",
        "\n",
        "# # get_padding_masks\n",
        "# print('get_padding_masks------------')\n",
        "# padding_mask = x != params.pad_index\n",
        "# print(padding_mask)\n",
        "# lengths = padding_mask.long().sum(dim=1).to(x.device)\n",
        "# print(lengths)\n",
        "# bs = lengths.size(0)\n",
        "# alen = torch.arange(slen, dtype=torch.long, device=lengths.device)\n",
        "# mask = alen < lengths[:, None]\n",
        "# print(bs)\n",
        "# print(lengths[:, None])\n",
        "# print(mask)\n",
        "\n",
        "# # embedding\n",
        "# print('\\nembedding-------------------')\n",
        "# embeddings = Embedding(params.n_words, params.emb_dim, padding_idx=params.pad_index)\n",
        "# print(embeddings)\n",
        "\n",
        "# # mask + embedding\n",
        "# print('\\nmask + embedding------------')\n",
        "# tensor = embeddings(x)\n",
        "# print(tensor)\n",
        "# tensor *= mask.unsqueeze(-1).to(tensor.dtype)\n",
        "# print(tensor)"
      ],
      "metadata": {
        "id": "2Qcs-389CoD0",
        "collapsed": true
      },
      "execution_count": null,
      "outputs": []
    },
    {
      "cell_type": "code",
      "source": [
        "def make_mlp(l, act=nn.LeakyReLU(), tail=[]):\n",
        "    \"\"\"makes an MLP with no top layer activation\"\"\"\n",
        "    return nn.Sequential(*(sum(\n",
        "        [[nn.Linear(i, o)] + ([act] if n < len(l)-2 else [])\n",
        "         for n, (i, o) in enumerate(zip(l, l[1:]))], []) + tail))"
      ],
      "metadata": {
        "id": "kpqjNjl8Wib7"
      },
      "execution_count": null,
      "outputs": []
    },
    {
      "cell_type": "markdown",
      "source": [
        "# Train"
      ],
      "metadata": {
        "id": "PnMdSy6v_VQr"
      }
    },
    {
      "cell_type": "code",
      "source": [
        "class AttrDict(dict):\n",
        "    def __init__(self, *args, **kwargs):\n",
        "        super(AttrDict, self).__init__(*args, **kwargs)\n",
        "        self.__dict__ = self\n",
        "        \n",
        "params = AttrDict({\n",
        "    \"n_words\": vocab_size, \n",
        "    \"pad_index\": pad_index, \n",
        "    \"eos_index\": eos_index, \n",
        "    \"emb_dim\": 100, \n",
        "})\n",
        "\n",
        "device = torch.device(\"cuda\" if torch.cuda.is_available() else \"cpu\")"
      ],
      "metadata": {
        "id": "TViaXQudXgTp"
      },
      "execution_count": null,
      "outputs": []
    },
    {
      "cell_type": "code",
      "source": [
        "Z = torch.ones((1,)).to(device)\n",
        "\n",
        "n_hid = 256\n",
        "n_layers = 2\n",
        "\n",
        "mlp = make_mlp([params.emb_dim] + [n_hid] * n_layers + [params.n_words]).to(device)  # [100, 256, 256, 12]\n",
        "model = TransformerModel(params, mlp).to(device)\n",
        "P_B = 1 # DAG & sequence generation => tree \n",
        "\n",
        "\n",
        "optim = torch.optim.Adam([ {'params':model .parameters(), 'lr':0.001}, {'params':[Z], 'lr':0.01} ])\n",
        "Z.requires_grad_()"
      ],
      "metadata": {
        "colab": {
          "base_uri": "https://localhost:8080/"
        },
        "id": "6vHkHPjwXy5J",
        "outputId": "020f0fee-1c2b-4fa6-b307-5d91fe7b730c"
      },
      "execution_count": null,
      "outputs": [
        {
          "output_type": "execute_result",
          "data": {
            "text/plain": [
              "tensor([1.], requires_grad=True)"
            ]
          },
          "metadata": {},
          "execution_count": 63
        }
      ]
    },
    {
      "cell_type": "code",
      "source": [
        "# To understand the model\n",
        "print([params.emb_dim] + [n_hid] * n_layers + [params.n_words])\n",
        "print(mlp)\n",
        "print(model)"
      ],
      "metadata": {
        "colab": {
          "base_uri": "https://localhost:8080/"
        },
        "id": "1k92PVAUINX4",
        "outputId": "94d16864-4aa0-49c7-f597-da4937113174"
      },
      "execution_count": null,
      "outputs": [
        {
          "output_type": "stream",
          "name": "stdout",
          "text": [
            "[100, 256, 256, 12]\n",
            "Sequential(\n",
            "  (0): Linear(in_features=100, out_features=256, bias=True)\n",
            "  (1): LeakyReLU(negative_slope=0.01)\n",
            "  (2): Linear(in_features=256, out_features=256, bias=True)\n",
            "  (3): LeakyReLU(negative_slope=0.01)\n",
            "  (4): Linear(in_features=256, out_features=12, bias=True)\n",
            ")\n",
            "TransformerModel(\n",
            "  (embeddings): Embedding(12, 100, padding_idx=10)\n",
            "  (transformer): Sequential(\n",
            "    (0): Linear(in_features=100, out_features=256, bias=True)\n",
            "    (1): LeakyReLU(negative_slope=0.01)\n",
            "    (2): Linear(in_features=256, out_features=256, bias=True)\n",
            "    (3): LeakyReLU(negative_slope=0.01)\n",
            "    (4): Linear(in_features=256, out_features=12, bias=True)\n",
            "  )\n",
            ")\n"
          ]
        }
      ]
    },
    {
      "cell_type": "code",
      "source": [
        "import tqdm\n",
        "\n",
        "losses_TB = []\n",
        "zs_TB = []\n",
        "rewards_TB = []\n",
        "all_visited_TB = []\n",
        "first_visit_TB = -1 * np.ones_like(true_dist)\n",
        "l1log_TB = []"
      ],
      "metadata": {
        "id": "9d6n9zspXqNT"
      },
      "execution_count": null,
      "outputs": []
    },
    {
      "cell_type": "markdown",
      "source": [
        "**Here, we are dealing with trees (each non-initial sentence has only one parent), so $P_B = 1 \\Rightarrow logP_B = 0$**"
      ],
      "metadata": {
        "id": "efJ3Rdvi_i1T"
      }
    },
    {
      "cell_type": "code",
      "source": [
        "batch_size = 128\n",
        "max_len = max_length\n",
        "\n",
        "n_train_steps = 5000\n",
        "\n",
        "for it in tqdm.trange(n_train_steps):\n",
        "    generated = torch.LongTensor(batch_size, max_len)  # upcoming output\n",
        "    generated.fill_(params.pad_index)       # fill upcoming ouput with <PAD>\n",
        "    generated[:,0].fill_(params.eos_index)    # we use <EOS> for <BOS> everywhere as start token\n",
        "    #gen_len = (state != params.pad_index).long().sum(dim=1).to(state.device)\n",
        "    gen_len = torch.LongTensor(batch_size,).fill_(1)\n",
        "    unfinished_sents = gen_len.clone().fill_(1)\n",
        "    cur_len = 1\n",
        "    # Z = Z(agent.model(generated[:,:cur_len], lengths=gen_len, causal=True)[:,0]).squeeze(1).exp().to(device)\n",
        "\n",
        "    flag = True\n",
        "    if flag :\n",
        "        # detached form  of TB\n",
        "        ll_diff = torch.zeros((batch_size,)).to(device)\n",
        "        ll_diff += Z\n",
        "    else :\n",
        "        # non-detached form of TB ojective, where we multiply everything before doing the logarithm\n",
        "        in_probs = torch.ones(batch_size, dtype=torch.float, requires_grad=True).to(device)\n",
        "\n",
        "    while cur_len < max_len:\n",
        "        state = generated[:,:cur_len] + 0 # (bs, cur_len)\n",
        "        tensor = model(state.to(device), lengths=gen_len.to(device)) # (bs, cur_len, vocab_size)\n",
        "        #scores = tensor[:,0] # (bs, vocab_size) : use last word for prediction\n",
        "        scores = tensor.sum(dim=1) # (bs, vocab_size) \n",
        "        scores[:,pad_index] = -1e8 # we don't want to generate pad_token\n",
        "        scores[:,eos_index] = -1e8 # if we don't want to generate eos_token : don't allow generation of sentences with differents lengths\n",
        "        scores = scores.log_softmax(1)\n",
        "        sample_temperature = 1\n",
        "        probs = F.softmax(scores / sample_temperature, dim=1)\n",
        "        next_words = torch.multinomial(probs, 1).squeeze(1)\n",
        "\n",
        "        # update generations / lengths / finished sentences / current length\n",
        "        generated[:,cur_len] = next_words.cpu() * unfinished_sents + params.pad_index * (1 - unfinished_sents)\n",
        "        gen_len.add_(unfinished_sents)\n",
        "        unfinished_sents.mul_(next_words.cpu().ne(params.eos_index).long())\n",
        "        cur_len = cur_len + 1\n",
        "\n",
        "        # loss\n",
        "        if flag :\n",
        "            #sample_in_probs = probs.gather(1, next_words.unsqueeze(-1)).squeeze(1)\n",
        "            #sample_in_probs[unfinished_sents == 0] = 1.\n",
        "            #ll_diff += sample_in_probs.log()\n",
        "            \n",
        "            ll_diff += scores.gather(1, next_words.unsqueeze(-1)).squeeze(1)\n",
        "        else :\n",
        "            sample_in_probs = probs.gather(1, next_words.unsqueeze(-1)).squeeze(1)\n",
        "            sample_in_probs[unfinished_sents == 0] = 1.\n",
        "            in_probs = in_probs * sample_in_probs\n",
        "      \n",
        "        # stop when there is a </s> in each sentence, or if we exceed the maximul length\n",
        "        if unfinished_sents.max() == 0:\n",
        "            break\n",
        "\n",
        "    generated = generated.apply_(lambda index : 0 if index == pad_index or index == eos_index else index)\n",
        "    #R = reward_function(generated, reward_coef).to(device)\n",
        "    generated =  [float(\"\".join([str(s_i) for s_i in s])) for s in generated.tolist()]\n",
        "    R = reward_function22(generated, reward_coef).to(device) \n",
        "    \n",
        "    optim.zero_grad()\n",
        "    if flag :\n",
        "        ll_diff -= R.log()\n",
        "        loss = (ll_diff**2).sum()/batch_size\n",
        "    else :\n",
        "        loss = ((Z*in_probs / R).log()**2).sum()/batch_size\n",
        "\n",
        "    loss.backward()\n",
        "    optim.step()\n",
        "\n",
        "    losses_TB.append(loss.item())\n",
        "    zs_TB.append(Z.item())\n",
        "    rewards_TB.append(R.mean().cpu())\n",
        "    all_visited_TB.extend(generated)\n",
        "    for state in all_visited_TB :\n",
        "        if first_visit_TB[int(state)]<0: first_visit_TB[int(state)] = it\n",
        "\n",
        "    if it%1000==0: \n",
        "        print('loss =', np.array(losses_TB[-100:]).mean(), 'Z =', Z.item(), \"R =\", np.array(rewards_TB[-100:]).mean() )\n",
        "        emp_dist = np.bincount(all_visited_TB[-200000:], minlength=len(true_dist)).astype(float)\n",
        "        emp_dist /= emp_dist.sum()\n",
        "        l1 = np.abs(true_dist-emp_dist).mean()\n",
        "        print('L1 =', l1)\n",
        "        l1log_TB.append((len(all_visited_TB), l1))\n",
        "        print(\"gen\")\n",
        "        print(generated[-100:])"
      ],
      "metadata": {
        "id": "Cpk_L_vJU433",
        "colab": {
          "base_uri": "https://localhost:8080/"
        },
        "outputId": "b536f489-fa33-4685-f457-634cefead8a6"
      },
      "execution_count": null,
      "outputs": [
        {
          "output_type": "stream",
          "name": "stderr",
          "text": [
            "  0%|          | 1/5000 [00:00<58:05,  1.43it/s]"
          ]
        },
        {
          "output_type": "stream",
          "name": "stdout",
          "text": [
            "loss = 1.2355758833885193 Z = 7.320044040679932 R = 0.26820168\n",
            "L1 = 1.800032315747208e-05\n",
            "gen\n",
            "[4303.0, 3735.0, 2455.0, 3689.0, 5613.0, 4843.0, 5231.0, 7025.0, 2351.0, 7798.0, 3662.0, 783.0, 9724.0, 1981.0, 310.0, 9880.0, 2820.0, 5238.0, 4099.0, 7561.0, 8473.0, 8491.0, 4903.0, 1084.0, 7455.0, 3176.0, 4913.0, 1792.0, 4537.0, 3939.0, 1994.0, 5248.0, 5185.0, 3283.0, 6853.0, 274.0, 3318.0, 5935.0, 1277.0, 7630.0, 9915.0, 2961.0, 8345.0, 7292.0, 4206.0, 3469.0, 1598.0, 8523.0, 6829.0, 5098.0, 6125.0, 8660.0, 8126.0, 5723.0, 1799.0, 4879.0, 1307.0, 9386.0, 1253.0, 3684.0, 2904.0, 6050.0, 6951.0, 3750.0, 3478.0, 9498.0, 2891.0, 8014.0, 8237.0, 6567.0, 6002.0, 1347.0, 3577.0, 4324.0, 7650.0, 6774.0, 9714.0, 732.0, 3456.0, 9447.0, 421.0, 5115.0, 1718.0, 9375.0, 6252.0, 494.0, 380.0, 2706.0, 8974.0, 4747.0, 4133.0, 5516.0, 7283.0, 4228.0, 1723.0, 9198.0, 8941.0, 392.0, 4261.0, 5801.0]\n"
          ]
        },
        {
          "output_type": "stream",
          "name": "stderr",
          "text": [
            " 20%|██        | 1001/5000 [13:41<1:04:38,  1.03it/s]"
          ]
        },
        {
          "output_type": "stream",
          "name": "stdout",
          "text": [
            "loss = 1.2330354380607604 Z = 7.331404209136963 R = 0.270023\n",
            "L1 = 1.800032315747208e-05\n",
            "gen\n",
            "[7317.0, 5183.0, 6239.0, 2748.0, 6161.0, 2002.0, 3651.0, 2270.0, 7405.0, 4911.0, 6743.0, 923.0, 8813.0, 427.0, 4434.0, 1391.0, 3483.0, 1419.0, 5837.0, 2311.0, 1911.0, 1564.0, 5070.0, 1082.0, 1353.0, 5389.0, 594.0, 5549.0, 1309.0, 1353.0, 2756.0, 7756.0, 4118.0, 7126.0, 1190.0, 3691.0, 9579.0, 3594.0, 2344.0, 6034.0, 11.0, 3887.0, 8900.0, 5976.0, 5154.0, 410.0, 957.0, 5343.0, 3571.0, 2498.0, 594.0, 1315.0, 8996.0, 3014.0, 3774.0, 8266.0, 40.0, 5724.0, 9262.0, 5695.0, 3883.0, 8987.0, 1475.0, 7075.0, 1955.0, 4915.0, 6705.0, 5714.0, 3974.0, 7401.0, 4738.0, 9008.0, 5907.0, 9008.0, 1869.0, 5003.0, 22.0, 9448.0, 2522.0, 244.0, 9530.0, 8582.0, 5717.0, 2409.0, 4784.0, 4522.0, 2019.0, 3496.0, 4015.0, 4809.0, 7629.0, 454.0, 4038.0, 5465.0, 8746.0, 3138.0, 8804.0, 6660.0, 2008.0, 2789.0]\n"
          ]
        },
        {
          "output_type": "stream",
          "name": "stderr",
          "text": [
            " 40%|████      | 2001/5000 [32:08<1:03:19,  1.27s/it]"
          ]
        },
        {
          "output_type": "stream",
          "name": "stdout",
          "text": [
            "loss = 1.2236634427309037 Z = 7.325257301330566 R = 0.2664097\n",
            "L1 = 1.800032315747208e-05\n",
            "gen\n",
            "[5988.0, 5030.0, 4126.0, 4555.0, 5950.0, 2122.0, 9421.0, 8407.0, 3151.0, 3031.0, 4931.0, 3585.0, 8382.0, 4457.0, 3668.0, 3707.0, 5619.0, 6547.0, 6481.0, 9833.0, 9765.0, 93.0, 8537.0, 7224.0, 6762.0, 2882.0, 712.0, 8510.0, 4457.0, 1631.0, 5951.0, 4071.0, 3928.0, 6151.0, 5875.0, 8897.0, 1401.0, 9566.0, 5295.0, 1779.0, 978.0, 2647.0, 6267.0, 6298.0, 5975.0, 148.0, 1315.0, 3980.0, 4828.0, 9604.0, 3419.0, 8042.0, 5075.0, 2491.0, 4683.0, 5282.0, 7320.0, 1494.0, 4829.0, 7182.0, 9572.0, 9877.0, 3498.0, 5385.0, 8558.0, 8692.0, 453.0, 430.0, 2305.0, 5462.0, 3401.0, 1146.0, 7131.0, 7870.0, 3057.0, 8167.0, 684.0, 6689.0, 1043.0, 8278.0, 3204.0, 5711.0, 511.0, 6133.0, 9749.0, 6671.0, 661.0, 9935.0, 1401.0, 5961.0, 4659.0, 1948.0, 5464.0, 8655.0, 8796.0, 9482.0, 6457.0, 3617.0, 6346.0, 6824.0]\n"
          ]
        },
        {
          "output_type": "stream",
          "name": "stderr",
          "text": [
            " 60%|██████    | 3001/5000 [55:21<50:56,  1.53s/it]"
          ]
        },
        {
          "output_type": "stream",
          "name": "stdout",
          "text": [
            "loss = 1.2331090331077577 Z = 7.326145172119141 R = 0.266688\n",
            "L1 = 1.8000323157472082e-05\n",
            "gen\n",
            "[1651.0, 8250.0, 5805.0, 7876.0, 6176.0, 3216.0, 5522.0, 939.0, 6836.0, 2430.0, 7880.0, 1251.0, 1553.0, 8047.0, 8657.0, 8161.0, 7952.0, 4404.0, 787.0, 283.0, 1185.0, 5233.0, 9710.0, 7455.0, 6634.0, 9040.0, 5151.0, 8161.0, 245.0, 7547.0, 2274.0, 9061.0, 1594.0, 6000.0, 6309.0, 2249.0, 7168.0, 8959.0, 9836.0, 8601.0, 2092.0, 5404.0, 7569.0, 1435.0, 3466.0, 303.0, 8476.0, 82.0, 837.0, 4791.0, 71.0, 8646.0, 5745.0, 1428.0, 924.0, 7891.0, 2413.0, 2242.0, 625.0, 2374.0, 5719.0, 2753.0, 3067.0, 1122.0, 3473.0, 4087.0, 5783.0, 9285.0, 8129.0, 6655.0, 2302.0, 9493.0, 8278.0, 2135.0, 1764.0, 5942.0, 3585.0, 4010.0, 3950.0, 6225.0, 5631.0, 1767.0, 9379.0, 8602.0, 1305.0, 9482.0, 7885.0, 5931.0, 5487.0, 8399.0, 725.0, 1780.0, 7775.0, 8952.0, 5791.0, 7255.0, 7166.0, 7157.0, 7816.0, 5497.0]\n"
          ]
        },
        {
          "output_type": "stream",
          "name": "stderr",
          "text": [
            " 80%|████████  | 4001/5000 [1:23:15<30:07,  1.81s/it]"
          ]
        },
        {
          "output_type": "stream",
          "name": "stdout",
          "text": [
            "loss = 1.2459866279363632 Z = 7.301567077636719 R = 0.26848733\n",
            "L1 = 1.800032315747208e-05\n",
            "gen\n",
            "[8301.0, 3560.0, 4332.0, 2909.0, 6437.0, 4647.0, 4467.0, 3511.0, 7043.0, 8316.0, 8710.0, 1072.0, 5760.0, 2751.0, 6349.0, 4925.0, 5550.0, 9930.0, 1546.0, 4747.0, 8978.0, 3256.0, 8616.0, 5741.0, 8825.0, 4872.0, 6352.0, 6012.0, 4646.0, 812.0, 9310.0, 6874.0, 3405.0, 2435.0, 292.0, 3863.0, 6078.0, 9164.0, 9398.0, 1174.0, 9537.0, 4742.0, 8450.0, 2429.0, 5532.0, 7480.0, 8578.0, 4599.0, 9607.0, 7561.0, 2787.0, 2779.0, 5530.0, 9526.0, 59.0, 3214.0, 6930.0, 5117.0, 1778.0, 6917.0, 1497.0, 1043.0, 137.0, 6328.0, 6742.0, 1437.0, 5101.0, 3863.0, 1772.0, 135.0, 133.0, 4428.0, 6256.0, 190.0, 692.0, 8614.0, 1310.0, 5098.0, 4191.0, 5332.0, 2892.0, 1098.0, 4923.0, 8843.0, 2376.0, 5371.0, 7490.0, 3849.0, 264.0, 8004.0, 6910.0, 4623.0, 8757.0, 1936.0, 7723.0, 1917.0, 4454.0, 8431.0, 7211.0, 7743.0]\n"
          ]
        },
        {
          "output_type": "stream",
          "name": "stderr",
          "text": [
            "100%|██████████| 5000/5000 [1:55:52<00:00,  1.39s/it]\n"
          ]
        }
      ]
    },
    {
      "cell_type": "markdown",
      "source": [
        "# samples"
      ],
      "metadata": {
        "id": "PR2b8sxTpJ8u"
      }
    },
    {
      "cell_type": "code",
      "source": [
        "samples = []\n",
        "samples_R = []\n",
        "\n",
        "for it in tqdm.trange(10):\n",
        "    generated = torch.LongTensor(batch_size, max_len)  # upcoming output\n",
        "    generated.fill_(params.pad_index)       # fill upcoming ouput with <PAD>\n",
        "    generated[:,0].fill_(params.eos_index)    # we use <EOS> for <BOS> everywhere as start token\n",
        "    #gen_len = (state != params.pad_index).long().sum(dim=1).to(state.device)\n",
        "    gen_len = torch.LongTensor(batch_size,).fill_(1)\n",
        "    unfinished_sents = gen_len.clone().fill_(1)\n",
        "    cur_len = 1\n",
        "    #Z = Z(agent.model(generated[:,:cur_len], lengths=gen_len, causal=True)[:,0]).squeeze(1).exp().to(device)\n",
        "\n",
        "    while cur_len < max_len:\n",
        "        state = generated[:,:cur_len] + 0 # (bs, cur_len)\n",
        "        tensor = model(state.to(device), lengths=gen_len.to(device)) # (bs, cur_len, vocab_size)\n",
        "        scores = tensor[:,0] # (bs, vocab_size) : use last word for prediction\n",
        "        scores[:,pad_index] = -1e2 # we don't want to generate pad_token\n",
        "        scores[:,eos_index] = -1e2 # if we don't want to generate eos_token : don't allow generation of sentences with differents lengths\n",
        "        sample_temperature = 1\n",
        "        probs = F.softmax(scores / sample_temperature, dim=1)\n",
        "        #next_words = torch.distributions.categorical.Categorical(probs=probs).sample()\n",
        "        next_words = torch.multinomial(probs, 1).squeeze(1)\n",
        "\n",
        "        # update generations / lengths / finished sentences / current length\n",
        "        generated[:,cur_len] = next_words.cpu() * unfinished_sents + params.pad_index * (1 - unfinished_sents)\n",
        "        gen_len.add_(unfinished_sents)\n",
        "        unfinished_sents.mul_(next_words.cpu().ne(params.eos_index).long())\n",
        "        cur_len = cur_len + 1\n",
        "      \n",
        "        # stop when there is a </s> in each sentence, or if we exceed the maximul length\n",
        "        if unfinished_sents.max() == 0:\n",
        "            break\n",
        "\n",
        "    generated = generated.apply_(lambda index : 0 if index == pad_index or index == eos_index else index)\n",
        "    #R = reward_function(generated, reward_coef).to(device)\n",
        "    generated =  [float(\"\".join([str(s_i) for s_i in s])) for s in generated.tolist()]\n",
        "    R = reward_function22(generated, reward_coef).to(device) \n",
        "\n",
        "\n",
        "    samples.extend(generated)  \n",
        "    samples_R.extend([r.item() for r in R.cpu()]) "
      ],
      "metadata": {
        "colab": {
          "base_uri": "https://localhost:8080/"
        },
        "id": "2nITddabpL0E",
        "outputId": "f96a6c6c-d8ca-4a43-e3ce-d2f0d4dbca60"
      },
      "execution_count": null,
      "outputs": [
        {
          "output_type": "stream",
          "name": "stderr",
          "text": [
            "100%|██████████| 10/10 [00:00<00:00, 106.11it/s]\n"
          ]
        }
      ]
    },
    {
      "cell_type": "code",
      "source": [
        "print(samples)"
      ],
      "metadata": {
        "colab": {
          "base_uri": "https://localhost:8080/"
        },
        "id": "3vItLCXjr6KT",
        "outputId": "891e44d4-c077-475d-dbf8-09c4007dbf6f"
      },
      "execution_count": null,
      "outputs": [
        {
          "output_type": "stream",
          "name": "stdout",
          "text": [
            "[2556.0, 7745.0, 9995.0, 8092.0, 1862.0, 4701.0, 3102.0, 6844.0, 3775.0, 6307.0, 6076.0, 6479.0, 4563.0, 3759.0, 2143.0, 9799.0, 1420.0, 8696.0, 8688.0, 9158.0, 9544.0, 4581.0, 8483.0, 1462.0, 6599.0, 6735.0, 7679.0, 4386.0, 4537.0, 7546.0, 7057.0, 5977.0, 7964.0, 3604.0, 1694.0, 2668.0, 893.0, 874.0, 8587.0, 5421.0, 1263.0, 4092.0, 7481.0, 9405.0, 9934.0, 4800.0, 6234.0, 808.0, 5556.0, 6424.0, 3905.0, 8788.0, 8105.0, 887.0, 8269.0, 5357.0, 6326.0, 6546.0, 310.0, 6014.0, 5057.0, 6650.0, 6052.0, 9163.0, 7271.0, 7248.0, 7682.0, 8495.0, 3247.0, 2357.0, 7474.0, 7363.0, 7512.0, 2679.0, 7027.0, 6663.0, 5684.0, 6974.0, 2603.0, 2561.0, 2622.0, 8862.0, 4387.0, 9023.0, 1125.0, 7187.0, 9318.0, 1115.0, 7138.0, 7300.0, 7160.0, 1626.0, 4665.0, 5998.0, 9935.0, 8589.0, 6422.0, 7568.0, 6804.0, 5741.0, 3426.0, 7999.0, 8411.0, 8816.0, 4754.0, 2124.0, 8429.0, 110.0, 7999.0, 921.0, 1510.0, 5846.0, 5992.0, 1915.0, 28.0, 9458.0, 8334.0, 5213.0, 1269.0, 4594.0, 4082.0, 6872.0, 1834.0, 4600.0, 1982.0, 6197.0, 7276.0, 4298.0, 6181.0, 9396.0, 9492.0, 6961.0, 4113.0, 5574.0, 9300.0, 1716.0, 5197.0, 6379.0, 4434.0, 7384.0, 9784.0, 5308.0, 9511.0, 3923.0, 8704.0, 1213.0, 2382.0, 3325.0, 184.0, 8996.0, 3500.0, 6217.0, 3359.0, 8930.0, 6405.0, 1056.0, 9161.0, 5090.0, 8929.0, 5903.0, 6267.0, 5290.0, 1882.0, 9685.0, 796.0, 2269.0, 2640.0, 5369.0, 6013.0, 9538.0, 7253.0, 3784.0, 7069.0, 8082.0, 419.0, 2281.0, 2140.0, 7869.0, 6839.0, 9644.0, 7397.0, 7707.0, 1911.0, 814.0, 1382.0, 9947.0, 6935.0, 4098.0, 9106.0, 9422.0, 9624.0, 2690.0, 4944.0, 7515.0, 1577.0, 1917.0, 8751.0, 6226.0, 668.0, 1114.0, 4830.0, 2895.0, 8869.0, 50.0, 3829.0, 4221.0, 3795.0, 5732.0, 7513.0, 2589.0, 7218.0, 1183.0, 1717.0, 2495.0, 9629.0, 65.0, 9961.0, 5089.0, 4787.0, 2639.0, 8897.0, 8385.0, 3894.0, 7177.0, 9170.0, 7115.0, 885.0, 8591.0, 3329.0, 8371.0, 5291.0, 3670.0, 6373.0, 9158.0, 7027.0, 9611.0, 4628.0, 4185.0, 2060.0, 6711.0, 5569.0, 2899.0, 5444.0, 5243.0, 128.0, 8704.0, 3205.0, 3580.0, 9134.0, 1335.0, 8305.0, 438.0, 2593.0, 9896.0, 9837.0, 9398.0, 4204.0, 7763.0, 9616.0, 8770.0, 104.0, 1889.0, 1763.0, 5319.0, 912.0, 6726.0, 1542.0, 7980.0, 8003.0, 580.0, 756.0, 7655.0, 4108.0, 8092.0, 3266.0, 987.0, 3363.0, 2944.0, 873.0, 3823.0, 9908.0, 8981.0, 5535.0, 9397.0, 3863.0, 7203.0, 9885.0, 7531.0, 5026.0, 1991.0, 8662.0, 2470.0, 8582.0, 5955.0, 918.0, 872.0, 4483.0, 9774.0, 4239.0, 4506.0, 732.0, 5117.0, 878.0, 4969.0, 3689.0, 969.0, 8440.0, 9095.0, 7433.0, 2943.0, 1608.0, 4354.0, 5516.0, 6047.0, 8583.0, 6143.0, 1912.0, 1632.0, 136.0, 7723.0, 8952.0, 3845.0, 5339.0, 5525.0, 7039.0, 8402.0, 6326.0, 3688.0, 5480.0, 5207.0, 7550.0, 9867.0, 9347.0, 5745.0, 3515.0, 1211.0, 9456.0, 1914.0, 3404.0, 4459.0, 5665.0, 8972.0, 2130.0, 6475.0, 820.0, 758.0, 4787.0, 5733.0, 6739.0, 8091.0, 5243.0, 7945.0, 6733.0, 1291.0, 6216.0, 6708.0, 9938.0, 7849.0, 8159.0, 6659.0, 6140.0, 5173.0, 218.0, 6782.0, 4283.0, 2698.0, 8671.0, 1549.0, 1519.0, 8194.0, 1825.0, 642.0, 8297.0, 2735.0, 5038.0, 7998.0, 7927.0, 6618.0, 9114.0, 1999.0, 1799.0, 2960.0, 520.0, 4327.0, 5756.0, 8906.0, 7115.0, 4016.0, 7077.0, 5094.0, 6297.0, 7718.0, 8989.0, 1091.0, 9628.0, 3549.0, 7142.0, 5440.0, 6267.0, 2234.0, 7999.0, 1070.0, 5312.0, 2429.0, 2463.0, 5237.0, 3609.0, 8285.0, 5599.0, 308.0, 5265.0, 1697.0, 1801.0, 4026.0, 6670.0, 4316.0, 3647.0, 3233.0, 7524.0, 4202.0, 1363.0, 4264.0, 6112.0, 9812.0, 1303.0, 6830.0, 1580.0, 437.0, 5649.0, 2469.0, 193.0, 1373.0, 757.0, 6838.0, 3122.0, 8783.0, 5570.0, 4488.0, 8024.0, 3052.0, 4418.0, 2112.0, 2070.0, 1152.0, 6581.0, 9399.0, 5068.0, 3786.0, 4330.0, 131.0, 1787.0, 1363.0, 9829.0, 5499.0, 1231.0, 6785.0, 7092.0, 6586.0, 664.0, 6916.0, 6814.0, 2658.0, 6525.0, 6277.0, 9404.0, 4852.0, 4533.0, 6123.0, 3784.0, 1.0, 7423.0, 7677.0, 5772.0, 7601.0, 7054.0, 2109.0, 5695.0, 8016.0, 7360.0, 2514.0, 2756.0, 6629.0, 9535.0, 378.0, 8243.0, 8611.0, 8899.0, 4941.0, 7156.0, 5076.0, 1096.0, 8766.0, 4507.0, 9544.0, 4380.0, 2018.0, 2108.0, 216.0, 5982.0, 9620.0, 6698.0, 891.0, 9235.0, 9480.0, 6869.0, 6510.0, 9897.0, 7108.0, 547.0, 4013.0, 5590.0, 7312.0, 9764.0, 1985.0, 7667.0, 6340.0, 6342.0, 3733.0, 2387.0, 1169.0, 9444.0, 317.0, 8409.0, 7309.0, 8039.0, 4794.0, 3698.0, 859.0, 7385.0, 1297.0, 3799.0, 8464.0, 9884.0, 263.0, 5900.0, 7864.0, 5837.0, 5440.0, 4714.0, 4280.0, 5760.0, 4250.0, 7439.0, 8270.0, 2570.0, 9351.0, 1546.0, 7934.0, 205.0, 5040.0, 7116.0, 2703.0, 4759.0, 1102.0, 3425.0, 8189.0, 6364.0, 4995.0, 1674.0, 3618.0, 4498.0, 9038.0, 5167.0, 9183.0, 2812.0, 1608.0, 743.0, 2801.0, 5096.0, 7960.0, 7056.0, 436.0, 9808.0, 48.0, 8932.0, 176.0, 4608.0, 2367.0, 8448.0, 3132.0, 6170.0, 5011.0, 1161.0, 6318.0, 8054.0, 4129.0, 8584.0, 2869.0, 9751.0, 7373.0, 2270.0, 5046.0, 4795.0, 2274.0, 1464.0, 3169.0, 4641.0, 1257.0, 5837.0, 8966.0, 5316.0, 9973.0, 8339.0, 6275.0, 5673.0, 2045.0, 6300.0, 2114.0, 6613.0, 4709.0, 8792.0, 1960.0, 5315.0, 6122.0, 4250.0, 2799.0, 2974.0, 8540.0, 4260.0, 7062.0, 1655.0, 6330.0, 6656.0, 4988.0, 9229.0, 9124.0, 5808.0, 3866.0, 5347.0, 1260.0, 141.0, 2173.0, 2205.0, 5581.0, 3842.0, 8478.0, 4639.0, 4484.0, 4258.0, 2059.0, 268.0, 2395.0, 7628.0, 8526.0, 1599.0, 1449.0, 2192.0, 849.0, 4198.0, 4241.0, 8600.0, 4678.0, 4679.0, 8390.0, 1478.0, 7708.0, 7114.0, 2984.0, 578.0, 4567.0, 7607.0, 162.0, 1925.0, 8241.0, 7183.0, 4100.0, 6377.0, 9909.0, 998.0, 8442.0, 1118.0, 1113.0, 8998.0, 6212.0, 1764.0, 5661.0, 864.0, 1779.0, 6960.0, 17.0, 8833.0, 7347.0, 4264.0, 812.0, 779.0, 1524.0, 7984.0, 8660.0, 5333.0, 7356.0, 6242.0, 6319.0, 6036.0, 9637.0, 6596.0, 8301.0, 7046.0, 9397.0, 352.0, 5948.0, 4010.0, 4076.0, 6881.0, 4281.0, 9977.0, 345.0, 9453.0, 6789.0, 1161.0, 1145.0, 5714.0, 2730.0, 937.0, 134.0, 7434.0, 1615.0, 5799.0, 5874.0, 1800.0, 3824.0, 8123.0, 2437.0, 6877.0, 3180.0, 2516.0, 3288.0, 5604.0, 2039.0, 2831.0, 8138.0, 9016.0, 8602.0, 2405.0, 4755.0, 8107.0, 8304.0, 1840.0, 2356.0, 5470.0, 4149.0, 8339.0, 5725.0, 9431.0, 4107.0, 5732.0, 3975.0, 8615.0, 837.0, 4442.0, 4434.0, 5133.0, 1033.0, 5621.0, 4205.0, 6383.0, 1573.0, 8799.0, 5472.0, 3138.0, 8813.0, 1946.0, 4100.0, 4072.0, 1537.0, 6706.0, 29.0, 613.0, 5512.0, 7316.0, 4508.0, 380.0, 9621.0, 6817.0, 4717.0, 9313.0, 8588.0, 6331.0, 3184.0, 6809.0, 2168.0, 597.0, 5904.0, 2028.0, 9617.0, 2928.0, 1887.0, 5845.0, 5910.0, 9964.0, 285.0, 6001.0, 5668.0, 5283.0, 2151.0, 6549.0, 636.0, 2638.0, 1234.0, 7570.0, 4434.0, 2606.0, 7816.0, 961.0, 4991.0, 5886.0, 5615.0, 4538.0, 846.0, 8863.0, 6978.0, 505.0, 2401.0, 6443.0, 8633.0, 4566.0, 1382.0, 7244.0, 8504.0, 5971.0, 6396.0, 5199.0, 9835.0, 3758.0, 9109.0, 5028.0, 3732.0, 3502.0, 1536.0, 9288.0, 1181.0, 6414.0, 8410.0, 6208.0, 351.0, 5224.0, 1351.0, 1006.0, 8060.0, 9283.0, 4923.0, 4625.0, 7446.0, 3572.0, 165.0, 1296.0, 7807.0, 4967.0, 3936.0, 2482.0, 5744.0, 9439.0, 8810.0, 4735.0, 6045.0, 745.0, 167.0, 820.0, 1131.0, 8376.0, 3616.0, 1822.0, 2553.0, 898.0, 9815.0, 4065.0, 7791.0, 8138.0, 6020.0, 7069.0, 1612.0, 7146.0, 9120.0, 6437.0, 9538.0, 4850.0, 3100.0, 4933.0, 6969.0, 7605.0, 2744.0, 7587.0, 8336.0, 998.0, 2155.0, 2176.0, 4379.0, 3453.0, 4559.0, 3829.0, 2225.0, 4181.0, 3850.0, 7053.0, 2785.0, 9225.0, 9029.0, 4268.0, 45.0, 5849.0, 6982.0, 5415.0, 3620.0, 2260.0, 535.0, 3708.0, 2183.0, 1520.0, 635.0, 9334.0, 5016.0, 2174.0, 7457.0, 2263.0, 5427.0, 7425.0, 7578.0, 7282.0, 9607.0, 385.0, 6353.0, 3695.0, 6660.0, 8431.0, 8593.0, 2898.0, 9579.0, 9196.0, 6912.0, 7185.0, 6555.0, 6965.0, 8231.0, 6658.0, 5947.0, 6563.0, 8714.0, 5107.0, 5063.0, 319.0, 917.0, 1636.0, 1000.0, 6120.0, 5329.0, 8128.0, 4457.0, 4299.0, 8446.0, 6107.0, 7008.0, 1401.0, 9701.0, 9170.0, 6541.0, 735.0, 5924.0, 5170.0, 5221.0, 5637.0, 5428.0, 6562.0, 8913.0, 1208.0, 8960.0, 3580.0, 8606.0, 1178.0, 261.0, 6714.0, 5093.0, 6680.0, 6119.0, 4249.0, 5074.0, 5540.0, 5523.0, 5648.0, 6532.0, 7576.0, 5932.0, 8894.0, 6713.0, 3887.0, 4764.0, 854.0, 7131.0, 3860.0, 7803.0, 5537.0, 2425.0, 5092.0, 7160.0, 8707.0, 1795.0, 2701.0, 2466.0, 2340.0, 8648.0, 7841.0, 6912.0, 9368.0, 7286.0, 8628.0, 6451.0, 5028.0, 9167.0, 4769.0, 2226.0, 8796.0, 6217.0, 3563.0, 2006.0, 1029.0, 8053.0, 2294.0, 1382.0, 6693.0, 1460.0, 3872.0, 4396.0, 3594.0, 4240.0, 921.0, 8151.0, 7654.0, 2383.0, 6317.0, 8444.0, 8860.0, 5653.0, 1398.0, 2851.0, 6738.0, 2927.0, 4119.0, 4806.0, 361.0, 8496.0, 5327.0, 7857.0, 206.0, 6770.0, 918.0, 406.0, 4290.0, 1779.0, 8253.0, 8931.0, 8879.0, 5357.0, 5333.0, 5199.0, 7437.0, 1139.0, 5171.0, 1595.0, 9548.0, 8487.0, 7776.0, 6196.0, 2344.0, 8566.0, 9842.0, 6760.0, 4129.0, 7516.0, 5583.0, 2200.0, 6460.0, 8138.0, 1095.0, 6626.0, 2626.0, 7505.0, 5565.0, 92.0, 7772.0, 289.0, 2537.0, 5421.0, 6448.0, 7596.0, 3540.0, 7694.0, 1510.0, 9901.0, 6115.0, 4989.0, 9149.0, 9430.0, 6577.0, 6442.0, 7904.0, 3171.0, 8783.0, 584.0, 8566.0, 453.0, 7072.0, 3477.0, 4265.0, 9555.0, 6448.0, 530.0, 1062.0, 6434.0, 7885.0, 409.0, 5141.0, 6262.0, 4492.0, 5484.0, 9600.0, 4519.0, 1548.0, 7303.0, 684.0, 611.0, 9536.0, 1283.0, 8229.0, 4896.0, 9802.0, 2196.0, 9820.0, 1034.0, 8338.0, 4295.0, 8240.0, 9299.0, 3365.0, 495.0, 8516.0, 4974.0, 3800.0, 4921.0, 6157.0, 6509.0, 3433.0, 6303.0, 9437.0, 8937.0, 1658.0, 6965.0, 3444.0, 1809.0, 9736.0, 5510.0, 7090.0, 9189.0, 4929.0, 1920.0, 1843.0, 1246.0, 1973.0, 8151.0, 4123.0, 8355.0, 2377.0, 6464.0, 77.0, 1363.0, 8759.0, 7622.0, 7707.0, 1568.0, 417.0, 9496.0, 7983.0, 5159.0, 5088.0, 6762.0, 7237.0, 5978.0, 8725.0, 5472.0, 7509.0, 7168.0, 360.0, 7122.0, 1342.0, 6510.0, 5379.0, 8302.0, 121.0, 9391.0, 4080.0, 4535.0, 539.0, 6188.0, 6779.0, 1317.0, 3244.0, 5400.0, 2673.0, 5210.0, 876.0, 6515.0, 2719.0, 7557.0, 5632.0, 9628.0, 6186.0, 8236.0, 8383.0, 7841.0, 6410.0, 8652.0, 3535.0, 1175.0, 9147.0, 2546.0, 2887.0, 598.0, 6645.0, 2301.0, 3974.0, 7228.0, 2239.0, 6665.0, 1528.0, 6406.0, 3216.0, 499.0, 1924.0, 4688.0, 354.0, 7411.0, 3847.0, 1280.0, 5790.0, 14.0, 4472.0, 4339.0, 8335.0, 9473.0, 9929.0, 971.0, 9470.0, 9708.0, 5399.0, 5652.0, 7251.0, 186.0, 9329.0, 1880.0, 6935.0, 3810.0, 5349.0, 7517.0, 8496.0, 9947.0, 3949.0, 9355.0, 5406.0, 2194.0, 447.0, 4584.0, 7843.0, 7945.0, 6214.0, 8947.0, 6471.0, 8867.0, 2853.0, 2785.0, 571.0, 3071.0, 9293.0, 9292.0, 552.0, 1376.0, 4252.0, 9169.0, 3318.0, 1255.0, 8412.0, 7955.0, 2623.0, 1352.0]\n"
          ]
        }
      ]
    },
    {
      "cell_type": "code",
      "source": [
        "print(samples_R)"
      ],
      "metadata": {
        "colab": {
          "base_uri": "https://localhost:8080/"
        },
        "id": "BTutAcJoyncR",
        "outputId": "610fa317-167f-421b-8592-f2c9a795bede"
      },
      "execution_count": null,
      "outputs": [
        {
          "output_type": "stream",
          "name": "stdout",
          "text": [
            "[0.06250099837779999, 0.5000010132789612, 0.06250099837779999, 0.06250099837779999, 0.1250009983778, 0.06250099837779999, 1.0000009536743164, 0.2500010132789612, 0.2500010132789612, 0.06250099837779999, 0.06250099837779999, 1.0000009536743164, 0.2500010132789612, 0.1250009983778, 0.2500010132789612, 0.2500010132789612, 0.5000010132789612, 0.03125099837779999, 0.2500010132789612, 0.03125099837779999, 0.06250099837779999, 0.03125099837779999, 0.2500010132789612, 0.5000010132789612, 0.5000010132789612, 0.1250009983778, 0.5000010132789612, 0.1250009983778, 0.03125099837779999, 1.0000009536743164, 0.03125099837779999, 0.06250099837779999, 1.0000009536743164, 0.06250099837779999, 1.0000009536743164, 0.03125099837779999, 0.2500010132789612, 0.03125099837779999, 0.06250099837779999, 0.2500010132789612, 0.2500010132789612, 1.0000009536743164, 0.5000010132789612, 1.0000009536743164, 0.5000010132789612, 0.06250099837779999, 0.1250009983778, 0.03125099837779999, 0.5000010132789612, 1.0000009536743164, 1.0000009536743164, 0.5000010132789612, 0.2500010132789612, 0.06250099837779999, 0.1250009983778, 1.0000009536743164, 0.5000010132789612, 0.5000010132789612, 0.2500010132789612, 0.1250009983778, 0.1250009983778, 0.03125099837779999, 0.2500010132789612, 1.0000009536743164, 1.0000009536743164, 0.5000010132789612, 0.06250099837779999, 0.1250009983778, 0.2500010132789612, 0.1250009983778, 0.03125099837779999, 0.06250099837779999, 0.5000010132789612, 0.03125099837779999, 0.2500010132789612, 0.1250009983778, 0.1250009983778, 1.0000009536743164, 0.06250099837779999, 0.2500010132789612, 0.06250099837779999, 0.06250099837779999, 0.2500010132789612, 0.1250009983778, 0.1250009983778, 0.06250099837779999, 0.5000010132789612, 0.06250099837779999, 0.5000010132789612, 0.06250099837779999, 0.5000010132789612, 0.2500010132789612, 0.5000010132789612, 0.1250009983778, 0.2500010132789612, 0.2500010132789612, 0.2500010132789612, 1.0000009536743164, 0.03125099837779999, 0.5000010132789612, 0.03125099837779999, 0.2500010132789612, 0.06250099837779999, 0.03125099837779999, 0.2500010132789612, 0.5000010132789612, 0.1250009983778, 1.0000009536743164, 0.2500010132789612, 0.1250009983778, 0.1250009983778, 0.03125099837779999, 0.1250009983778, 0.5000010132789612, 0.03125099837779999, 0.2500010132789612, 0.06250099837779999, 0.5000010132789612, 0.06250099837779999, 0.06250099837779999, 0.5000010132789612, 0.1250009983778, 0.1250009983778, 0.2500010132789612, 0.2500010132789612, 0.06250099837779999, 0.03125099837779999, 0.1250009983778, 0.5000010132789612, 0.2500010132789612, 0.5000010132789612, 0.2500010132789612, 0.5000010132789612, 0.1250009983778, 0.03125099837779999, 1.0000009536743164, 0.03125099837779999, 0.5000010132789612, 0.5000010132789612, 0.1250009983778, 0.03125099837779999, 0.03125099837779999, 0.06250099837779999, 0.06250099837779999, 0.1250009983778, 0.1250009983778, 0.03125099837779999, 0.1250009983778, 0.1250009983778, 0.2500010132789612, 0.2500010132789612, 0.2500010132789612, 0.06250099837779999, 0.2500010132789612, 0.1250009983778, 1.0000009536743164, 0.2500010132789612, 0.1250009983778, 0.1250009983778, 0.06250099837779999, 0.1250009983778, 0.5000010132789612, 0.5000010132789612, 0.03125099837779999, 0.06250099837779999, 0.1250009983778, 1.0000009536743164, 0.5000010132789612, 0.06250099837779999, 0.5000010132789612, 0.06250099837779999, 1.0000009536743164, 0.06250099837779999, 0.1250009983778, 0.5000010132789612, 0.06250099837779999, 0.03125099837779999, 0.06250099837779999, 0.1250009983778, 0.1250009983778, 0.03125099837779999, 0.06250099837779999, 0.1250009983778, 1.0000009536743164, 0.06250099837779999, 0.1250009983778, 0.03125099837779999, 0.03125099837779999, 0.2500010132789612, 0.03125099837779999, 0.5000010132789612, 0.03125099837779999, 0.03125099837779999, 0.2500010132789612, 0.06250099837779999, 0.1250009983778, 0.03125099837779999, 1.0000009536743164, 0.1250009983778, 0.1250009983778, 0.5000010132789612, 0.2500010132789612, 0.1250009983778, 0.03125099837779999, 0.5000010132789612, 0.1250009983778, 1.0000009536743164, 0.5000010132789612, 1.0000009536743164, 0.06250099837779999, 0.2500010132789612, 0.03125099837779999, 0.5000010132789612, 0.2500010132789612, 0.06250099837779999, 0.5000010132789612, 0.03125099837779999, 0.06250099837779999, 0.2500010132789612, 0.5000010132789612, 0.2500010132789612, 0.1250009983778, 1.0000009536743164, 0.03125099837779999, 0.06250099837779999, 0.2500010132789612, 0.03125099837779999, 1.0000009536743164, 0.06250099837779999, 1.0000009536743164, 1.0000009536743164, 0.06250099837779999, 0.06250099837779999, 0.03125099837779999, 0.2500010132789612, 0.1250009983778, 0.1250009983778, 0.03125099837779999, 0.1250009983778, 0.5000010132789612, 0.1250009983778, 0.03125099837779999, 0.5000010132789612, 0.06250099837779999, 0.06250099837779999, 0.1250009983778, 0.06250099837779999, 0.03125099837779999, 0.06250099837779999, 0.06250099837779999, 1.0000009536743164, 0.2500010132789612, 0.1250009983778, 0.06250099837779999, 0.1250009983778, 0.06250099837779999, 0.2500010132789612, 0.1250009983778, 0.2500010132789612, 0.1250009983778, 0.03125099837779999, 0.1250009983778, 0.1250009983778, 0.03125099837779999, 0.5000010132789612, 0.03125099837779999, 0.2500010132789612, 0.03125099837779999, 0.03125099837779999, 0.1250009983778, 0.1250009983778, 0.5000010132789612, 0.03125099837779999, 0.06250099837779999, 0.5000010132789612, 0.1250009983778, 0.1250009983778, 0.06250099837779999, 0.06250099837779999, 0.03125099837779999, 0.1250009983778, 0.03125099837779999, 0.2500010132789612, 0.1250009983778, 0.2500010132789612, 0.2500010132789612, 0.06250099837779999, 0.06250099837779999, 0.5000010132789612, 1.0000009536743164, 0.03125099837779999, 0.03125099837779999, 0.2500010132789612, 0.06250099837779999, 0.03125099837779999, 0.1250009983778, 0.03125099837779999, 0.03125099837779999, 0.06250099837779999, 0.06250099837779999, 0.03125099837779999, 0.2500010132789612, 0.2500010132789612, 0.1250009983778, 0.06250099837779999, 0.5000010132789612, 0.1250009983778, 0.2500010132789612, 0.1250009983778, 0.03125099837779999, 0.2500010132789612, 0.2500010132789612, 0.03125099837779999, 0.1250009983778, 0.1250009983778, 0.03125099837779999, 0.2500010132789612, 0.06250099837779999, 0.06250099837779999, 0.5000010132789612, 0.2500010132789612, 0.03125099837779999, 0.06250099837779999, 0.1250009983778, 0.5000010132789612, 0.2500010132789612, 0.5000010132789612, 0.1250009983778, 0.2500010132789612, 0.06250099837779999, 0.06250099837779999, 1.0000009536743164, 0.1250009983778, 0.1250009983778, 0.03125099837779999, 0.5000010132789612, 0.06250099837779999, 1.0000009536743164, 0.03125099837779999, 0.06250099837779999, 1.0000009536743164, 0.06250099837779999, 0.06250099837779999, 0.06250099837779999, 0.03125099837779999, 0.5000010132789612, 0.2500010132789612, 0.2500010132789612, 0.06250099837779999, 0.03125099837779999, 0.06250099837779999, 0.1250009983778, 0.5000010132789612, 0.06250099837779999, 0.5000010132789612, 0.2500010132789612, 0.03125099837779999, 0.03125099837779999, 0.1250009983778, 0.06250099837779999, 0.2500010132789612, 0.1250009983778, 0.2500010132789612, 0.03125099837779999, 0.06250099837779999, 0.1250009983778, 0.1250009983778, 0.2500010132789612, 0.5000010132789612, 0.5000010132789612, 0.5000010132789612, 0.06250099837779999, 0.1250009983778, 0.06250099837779999, 1.0000009536743164, 0.5000010132789612, 0.06250099837779999, 0.06250099837779999, 0.03125099837779999, 0.1250009983778, 0.03125099837779999, 0.5000010132789612, 0.1250009983778, 0.06250099837779999, 0.1250009983778, 0.06250099837779999, 0.2500010132789612, 0.5000010132789612, 0.06250099837779999, 0.5000010132789612, 0.03125099837779999, 0.06250099837779999, 0.2500010132789612, 0.2500010132789612, 0.1250009983778, 0.06250099837779999, 0.1250009983778, 0.03125099837779999, 0.1250009983778, 0.5000010132789612, 0.2500010132789612, 0.1250009983778, 0.5000010132789612, 0.2500010132789612, 0.5000010132789612, 0.5000010132789612, 0.5000010132789612, 0.2500010132789612, 1.0000009536743164, 1.0000009536743164, 0.06250099837779999, 0.1250009983778, 0.1250009983778, 1.0000009536743164, 0.06250099837779999, 0.06250099837779999, 0.03125099837779999, 0.5000010132789612, 1.0000009536743164, 1.0000009536743164, 0.5000010132789612, 0.06250099837779999, 0.06250099837779999, 1.0000009536743164, 0.03125099837779999, 0.5000010132789612, 0.06250099837779999, 0.1250009983778, 0.03125099837779999, 0.03125099837779999, 0.03125099837779999, 0.2500010132789612, 0.2500010132789612, 0.06250099837779999, 0.2500010132789612, 0.03125099837779999, 0.06250099837779999, 1.0000009536743164, 0.03125099837779999, 0.03125099837779999, 0.06250099837779999, 1.0000009536743164, 0.2500010132789612, 0.1250009983778, 0.1250009983778, 0.03125099837779999, 0.1250009983778, 0.2500010132789612, 0.06250099837779999, 0.5000010132789612, 0.03125099837779999, 0.5000010132789612, 0.03125099837779999, 0.5000010132789612, 0.5000010132789612, 0.2500010132789612, 0.1250009983778, 0.1250009983778, 0.06250099837779999, 0.1250009983778, 0.03125099837779999, 0.06250099837779999, 0.2500010132789612, 0.06250099837779999, 0.5000010132789612, 0.5000010132789612, 0.5000010132789612, 0.06250099837779999, 1.0000009536743164, 0.5000010132789612, 0.2500010132789612, 0.5000010132789612, 0.1250009983778, 1.0000009536743164, 0.1250009983778, 0.1250009983778, 0.1250009983778, 0.1250009983778, 0.5000010132789612, 0.03125099837779999, 0.03125099837779999, 0.06250099837779999, 0.2500010132789612, 0.06250099837779999, 0.06250099837779999, 0.2500010132789612, 1.0000009536743164, 0.2500010132789612, 0.03125099837779999, 0.03125099837779999, 0.06250099837779999, 0.5000010132789612, 0.1250009983778, 0.06250099837779999, 0.2500010132789612, 0.03125099837779999, 0.06250099837779999, 0.06250099837779999, 0.2500010132789612, 0.03125099837779999, 0.5000010132789612, 1.0000009536743164, 0.03125099837779999, 0.2500010132789612, 0.03125099837779999, 0.2500010132789612, 0.1250009983778, 0.2500010132789612, 0.1250009983778, 0.2500010132789612, 0.2500010132789612, 0.1250009983778, 0.06250099837779999, 0.03125099837779999, 1.0000009536743164, 0.06250099837779999, 0.03125099837779999, 0.06250099837779999, 1.0000009536743164, 0.1250009983778, 0.03125099837779999, 0.2500010132789612, 0.03125099837779999, 0.03125099837779999, 0.2500010132789612, 0.2500010132789612, 0.2500010132789612, 0.5000010132789612, 0.06250099837779999, 0.5000010132789612, 0.06250099837779999, 0.03125099837779999, 0.03125099837779999, 0.5000010132789612, 0.06250099837779999, 0.5000010132789612, 0.06250099837779999, 0.03125099837779999, 0.03125099837779999, 0.5000010132789612, 0.06250099837779999, 0.06250099837779999, 0.1250009983778, 0.2500010132789612, 0.06250099837779999, 0.5000010132789612, 0.03125099837779999, 0.1250009983778, 0.06250099837779999, 0.2500010132789612, 0.5000010132789612, 0.1250009983778, 0.06250099837779999, 0.2500010132789612, 0.06250099837779999, 0.03125099837779999, 0.03125099837779999, 0.5000010132789612, 0.2500010132789612, 0.5000010132789612, 0.5000010132789612, 0.06250099837779999, 0.1250009983778, 0.2500010132789612, 0.06250099837779999, 0.2500010132789612, 0.03125099837779999, 0.06250099837779999, 0.1250009983778, 0.06250099837779999, 0.03125099837779999, 0.06250099837779999, 0.06250099837779999, 0.06250099837779999, 1.0000009536743164, 1.0000009536743164, 0.5000010132789612, 0.2500010132789612, 1.0000009536743164, 0.1250009983778, 0.5000010132789612, 0.03125099837779999, 0.03125099837779999, 0.06250099837779999, 0.2500010132789612, 0.06250099837779999, 0.06250099837779999, 0.2500010132789612, 0.03125099837779999, 0.1250009983778, 0.06250099837779999, 0.1250009983778, 0.5000010132789612, 0.1250009983778, 0.5000010132789612, 0.5000010132789612, 0.5000010132789612, 0.1250009983778, 0.06250099837779999, 0.5000010132789612, 0.1250009983778, 0.06250099837779999, 0.5000010132789612, 0.03125099837779999, 0.1250009983778, 0.5000010132789612, 0.1250009983778, 0.2500010132789612, 0.2500010132789612, 0.5000010132789612, 0.1250009983778, 0.2500010132789612, 0.2500010132789612, 0.03125099837779999, 0.06250099837779999, 0.03125099837779999, 0.06250099837779999, 0.06250099837779999, 0.1250009983778, 1.0000009536743164, 0.03125099837779999, 0.03125099837779999, 0.5000010132789612, 0.03125099837779999, 1.0000009536743164, 0.03125099837779999, 1.0000009536743164, 0.03125099837779999, 0.5000010132789612, 0.03125099837779999, 0.2500010132789612, 0.03125099837779999, 0.03125099837779999, 0.06250099837779999, 0.1250009983778, 0.1250009983778, 0.1250009983778, 0.06250099837779999, 0.5000010132789612, 0.2500010132789612, 0.06250099837779999, 0.1250009983778, 0.03125099837779999, 0.5000010132789612, 0.06250099837779999, 0.1250009983778, 0.1250009983778, 0.2500010132789612, 0.06250099837779999, 0.03125099837779999, 0.2500010132789612, 0.1250009983778, 0.06250099837779999, 0.1250009983778, 0.06250099837779999, 0.1250009983778, 0.1250009983778, 0.1250009983778, 0.03125099837779999, 0.2500010132789612, 0.03125099837779999, 0.1250009983778, 1.0000009536743164, 0.2500010132789612, 1.0000009536743164, 0.1250009983778, 0.1250009983778, 0.2500010132789612, 0.1250009983778, 0.03125099837779999, 0.06250099837779999, 0.2500010132789612, 1.0000009536743164, 0.1250009983778, 0.06250099837779999, 0.06250099837779999, 0.03125099837779999, 0.1250009983778, 0.1250009983778, 0.03125099837779999, 1.0000009536743164, 0.5000010132789612, 0.06250099837779999, 0.2500010132789612, 0.2500010132789612, 0.03125099837779999, 0.2500010132789612, 0.1250009983778, 0.2500010132789612, 0.1250009983778, 0.03125099837779999, 0.03125099837779999, 0.1250009983778, 0.5000010132789612, 0.06250099837779999, 0.06250099837779999, 0.03125099837779999, 0.1250009983778, 1.0000009536743164, 0.1250009983778, 0.03125099837779999, 0.03125099837779999, 0.03125099837779999, 0.2500010132789612, 1.0000009536743164, 0.06250099837779999, 0.06250099837779999, 0.2500010132789612, 0.03125099837779999, 0.5000010132789612, 0.03125099837779999, 0.2500010132789612, 0.2500010132789612, 0.2500010132789612, 0.2500010132789612, 0.2500010132789612, 0.2500010132789612, 1.0000009536743164, 0.06250099837779999, 0.06250099837779999, 0.03125099837779999, 0.03125099837779999, 0.2500010132789612, 0.5000010132789612, 0.1250009983778, 0.5000010132789612, 0.03125099837779999, 0.06250099837779999, 0.06250099837779999, 0.2500010132789612, 0.06250099837779999, 1.0000009536743164, 0.06250099837779999, 0.1250009983778, 1.0000009536743164, 0.5000010132789612, 0.1250009983778, 0.2500010132789612, 0.1250009983778, 0.2500010132789612, 0.5000010132789612, 0.03125099837779999, 0.06250099837779999, 0.06250099837779999, 0.5000010132789612, 0.06250099837779999, 0.2500010132789612, 0.5000010132789612, 0.2500010132789612, 0.5000010132789612, 0.06250099837779999, 0.5000010132789612, 1.0000009536743164, 0.1250009983778, 0.1250009983778, 1.0000009536743164, 0.5000010132789612, 0.03125099837779999, 0.1250009983778, 0.2500010132789612, 0.5000010132789612, 0.1250009983778, 0.2500010132789612, 0.1250009983778, 0.06250099837779999, 0.06250099837779999, 0.1250009983778, 0.5000010132789612, 0.5000010132789612, 0.2500010132789612, 0.03125099837779999, 0.06250099837779999, 0.1250009983778, 0.2500010132789612, 0.06250099837779999, 0.1250009983778, 0.03125099837779999, 0.03125099837779999, 1.0000009536743164, 0.5000010132789612, 0.1250009983778, 0.1250009983778, 0.06250099837779999, 0.1250009983778, 0.2500010132789612, 0.03125099837779999, 0.06250099837779999, 0.1250009983778, 0.2500010132789612, 0.5000010132789612, 0.03125099837779999, 0.1250009983778, 0.1250009983778, 0.03125099837779999, 0.06250099837779999, 0.2500010132789612, 0.2500010132789612, 0.2500010132789612, 0.2500010132789612, 0.5000010132789612, 0.5000010132789612, 0.03125099837779999, 0.06250099837779999, 0.1250009983778, 0.5000010132789612, 0.03125099837779999, 0.03125099837779999, 0.5000010132789612, 0.1250009983778, 0.06250099837779999, 0.5000010132789612, 0.1250009983778, 0.1250009983778, 0.2500010132789612, 0.5000010132789612, 0.06250099837779999, 0.03125099837779999, 0.5000010132789612, 0.2500010132789612, 0.03125099837779999, 0.06250099837779999, 0.5000010132789612, 0.06250099837779999, 0.5000010132789612, 0.5000010132789612, 0.1250009983778, 0.06250099837779999, 0.06250099837779999, 0.06250099837779999, 0.06250099837779999, 0.5000010132789612, 0.03125099837779999, 0.06250099837779999, 0.5000010132789612, 0.5000010132789612, 0.2500010132789612, 0.03125099837779999, 0.1250009983778, 0.5000010132789612, 0.03125099837779999, 0.03125099837779999, 0.5000010132789612, 0.1250009983778, 1.0000009536743164, 0.2500010132789612, 0.1250009983778, 0.03125099837779999, 0.2500010132789612, 0.06250099837779999, 0.2500010132789612, 0.5000010132789612, 0.5000010132789612, 0.03125099837779999, 0.03125099837779999, 0.1250009983778, 0.2500010132789612, 0.03125099837779999, 0.2500010132789612, 0.03125099837779999, 0.1250009983778, 0.06250099837779999, 0.5000010132789612, 0.06250099837779999, 0.1250009983778, 0.03125099837779999, 0.1250009983778, 0.2500010132789612, 0.1250009983778, 0.06250099837779999, 0.03125099837779999, 0.06250099837779999, 0.5000010132789612, 0.2500010132789612, 0.5000010132789612, 0.5000010132789612, 0.2500010132789612, 0.03125099837779999, 0.03125099837779999, 0.06250099837779999, 0.03125099837779999, 0.1250009983778, 0.2500010132789612, 0.1250009983778, 0.5000010132789612, 0.2500010132789612, 0.5000010132789612, 0.5000010132789612, 0.03125099837779999, 0.5000010132789612, 0.1250009983778, 0.5000010132789612, 1.0000009536743164, 0.2500010132789612, 0.2500010132789612, 0.06250099837779999, 0.2500010132789612, 1.0000009536743164, 0.5000010132789612, 0.1250009983778, 0.1250009983778, 0.1250009983778, 0.5000010132789612, 0.03125099837779999, 0.06250099837779999, 0.5000010132789612, 0.03125099837779999, 0.2500010132789612, 0.1250009983778, 0.03125099837779999, 1.0000009536743164, 0.06250099837779999, 0.5000010132789612, 0.1250009983778, 0.06250099837779999, 1.0000009536743164, 0.5000010132789612, 1.0000009536743164, 0.06250099837779999, 1.0000009536743164, 0.03125099837779999, 0.5000010132789612, 0.03125099837779999, 0.03125099837779999, 0.2500010132789612, 0.03125099837779999, 0.2500010132789612, 1.0000009536743164, 0.06250099837779999, 0.2500010132789612, 0.5000010132789612, 0.2500010132789612, 0.1250009983778, 0.1250009983778, 0.06250099837779999, 0.06250099837779999, 0.2500010132789612, 0.1250009983778, 0.1250009983778, 1.0000009536743164, 0.06250099837779999, 0.1250009983778, 0.5000010132789612, 0.06250099837779999, 0.03125099837779999, 0.5000010132789612, 0.2500010132789612, 0.2500010132789612, 0.2500010132789612, 0.2500010132789612, 0.5000010132789612, 0.06250099837779999, 0.5000010132789612, 0.06250099837779999, 0.06250099837779999, 0.2500010132789612, 0.03125099837779999, 1.0000009536743164, 0.06250099837779999, 0.03125099837779999, 0.03125099837779999, 0.03125099837779999, 0.1250009983778, 0.2500010132789612, 0.03125099837779999, 0.03125099837779999, 0.06250099837779999, 0.5000010132789612, 0.1250009983778, 0.06250099837779999, 1.0000009536743164, 0.1250009983778, 0.1250009983778, 0.1250009983778, 0.1250009983778, 0.06250099837779999, 0.5000010132789612, 0.03125099837779999, 0.2500010132789612, 0.1250009983778, 0.1250009983778, 0.03125099837779999, 0.1250009983778, 0.06250099837779999, 0.5000010132789612, 0.06250099837779999, 0.1250009983778, 0.5000010132789612, 0.06250099837779999, 0.06250099837779999, 0.03125099837779999, 0.5000010132789612, 0.5000010132789612, 0.03125099837779999, 0.2500010132789612, 0.03125099837779999, 0.2500010132789612, 0.1250009983778, 0.2500010132789612, 0.2500010132789612, 0.06250099837779999, 0.06250099837779999, 0.06250099837779999, 0.06250099837779999, 0.03125099837779999, 0.5000010132789612, 0.06250099837779999, 0.03125099837779999, 0.06250099837779999, 0.06250099837779999, 0.2500010132789612, 0.5000010132789612, 0.06250099837779999, 0.03125099837779999, 0.5000010132789612, 0.03125099837779999, 0.06250099837779999, 0.03125099837779999, 0.1250009983778, 1.0000009536743164, 0.06250099837779999, 0.1250009983778, 0.03125099837779999, 0.1250009983778, 1.0000009536743164, 0.2500010132789612, 0.06250099837779999, 0.1250009983778, 0.06250099837779999, 0.03125099837779999, 0.5000010132789612, 0.5000010132789612, 0.2500010132789612, 0.03125099837779999, 0.5000010132789612, 0.03125099837779999, 0.5000010132789612, 0.2500010132789612, 0.06250099837779999, 0.1250009983778, 0.1250009983778, 0.1250009983778, 0.03125099837779999, 0.03125099837779999, 0.5000010132789612, 1.0000009536743164, 0.1250009983778, 0.1250009983778, 0.5000010132789612, 0.2500010132789612, 1.0000009536743164, 0.2500010132789612, 0.06250099837779999, 0.5000010132789612, 0.03125099837779999, 0.5000010132789612, 1.0000009536743164, 1.0000009536743164, 0.03125099837779999, 0.5000010132789612, 0.1250009983778, 0.5000010132789612, 0.1250009983778, 0.1250009983778, 0.03125099837779999, 0.06250099837779999, 0.1250009983778, 0.03125099837779999, 1.0000009536743164, 0.1250009983778, 0.2500010132789612, 0.03125099837779999, 0.06250099837779999, 0.1250009983778, 0.1250009983778, 0.5000010132789612, 0.06250099837779999, 0.03125099837779999, 0.1250009983778, 0.06250099837779999, 0.2500010132789612, 0.2500010132789612, 0.03125099837779999, 0.2500010132789612, 0.03125099837779999, 0.1250009983778, 0.5000010132789612, 0.5000010132789612, 0.03125099837779999, 0.1250009983778, 0.1250009983778, 0.5000010132789612, 0.06250099837779999, 0.03125099837779999, 0.1250009983778, 0.03125099837779999, 0.5000010132789612, 0.1250009983778, 0.2500010132789612, 0.5000010132789612, 0.5000010132789612, 0.1250009983778, 0.06250099837779999, 0.2500010132789612, 0.2500010132789612, 0.03125099837779999, 0.5000010132789612, 0.2500010132789612, 0.2500010132789612, 0.06250099837779999, 0.1250009983778, 0.06250099837779999, 0.03125099837779999, 0.1250009983778, 0.2500010132789612, 0.1250009983778, 0.5000010132789612, 0.2500010132789612, 0.03125099837779999, 0.5000010132789612, 0.06250099837779999, 0.5000010132789612, 0.5000010132789612, 0.5000010132789612, 0.06250099837779999, 0.1250009983778, 1.0000009536743164, 1.0000009536743164, 0.03125099837779999, 0.5000010132789612, 0.06250099837779999, 0.5000010132789612, 1.0000009536743164, 0.2500010132789612, 0.2500010132789612, 0.03125099837779999, 0.06250099837779999, 0.1250009983778, 0.1250009983778, 0.5000010132789612, 1.0000009536743164, 0.5000010132789612, 0.03125099837779999, 0.1250009983778, 0.2500010132789612, 0.5000010132789612, 0.03125099837779999, 0.5000010132789612, 0.5000010132789612, 0.03125099837779999, 0.06250099837779999, 0.5000010132789612, 0.03125099837779999, 0.03125099837779999, 0.1250009983778, 0.06250099837779999, 1.0000009536743164, 0.2500010132789612, 0.03125099837779999, 0.5000010132789612, 0.06250099837779999, 1.0000009536743164, 0.5000010132789612, 0.1250009983778, 0.5000010132789612, 0.06250099837779999, 0.03125099837779999, 0.5000010132789612, 0.1250009983778, 0.1250009983778, 1.0000009536743164, 0.03125099837779999, 0.1250009983778, 0.5000010132789612, 0.03125099837779999, 0.2500010132789612, 0.03125099837779999, 0.06250099837779999, 0.06250099837779999, 0.1250009983778, 0.03125099837779999, 1.0000009536743164, 0.2500010132789612, 1.0000009536743164, 0.1250009983778, 1.0000009536743164, 0.1250009983778, 0.5000010132789612, 0.1250009983778, 1.0000009536743164, 0.03125099837779999, 0.1250009983778, 0.1250009983778, 0.5000010132789612, 0.5000010132789612, 1.0000009536743164, 0.06250099837779999, 0.06250099837779999, 0.1250009983778, 0.2500010132789612, 1.0000009536743164, 1.0000009536743164, 0.1250009983778, 0.06250099837779999, 0.1250009983778, 0.5000010132789612, 0.2500010132789612, 0.1250009983778, 0.03125099837779999, 0.06250099837779999, 0.2500010132789612, 0.03125099837779999, 0.03125099837779999, 0.03125099837779999, 0.06250099837779999, 0.5000010132789612, 0.2500010132789612, 0.1250009983778, 0.5000010132789612, 0.03125099837779999, 0.5000010132789612, 0.5000010132789612, 0.06250099837779999, 0.06250099837779999, 0.06250099837779999, 0.5000010132789612, 0.2500010132789612, 0.2500010132789612, 0.1250009983778, 0.1250009983778, 0.06250099837779999, 0.06250099837779999, 0.1250009983778, 0.03125099837779999, 0.03125099837779999, 0.1250009983778, 0.2500010132789612, 0.06250099837779999, 0.1250009983778, 0.5000010132789612, 0.03125099837779999, 0.2500010132789612, 0.2500010132789612, 0.2500010132789612, 0.5000010132789612, 0.5000010132789612, 0.5000010132789612, 0.03125099837779999, 0.06250099837779999, 0.1250009983778, 0.06250099837779999, 0.06250099837779999, 0.1250009983778, 1.0000009536743164, 0.03125099837779999, 0.03125099837779999, 0.03125099837779999, 0.06250099837779999, 0.1250009983778, 1.0000009536743164, 0.1250009983778, 0.5000010132789612, 0.06250099837779999, 0.1250009983778, 0.5000010132789612, 0.06250099837779999, 0.2500010132789612, 0.5000010132789612, 0.2500010132789612, 0.2500010132789612, 0.1250009983778, 0.2500010132789612, 0.5000010132789612, 0.03125099837779999, 0.03125099837779999, 0.06250099837779999, 0.5000010132789612, 0.1250009983778, 0.2500010132789612, 0.03125099837779999, 0.5000010132789612]\n"
          ]
        }
      ]
    },
    {
      "cell_type": "code",
      "source": [
        ""
      ],
      "metadata": {
        "id": "MtwwXXXlaXwu"
      },
      "execution_count": null,
      "outputs": []
    }
  ]
}