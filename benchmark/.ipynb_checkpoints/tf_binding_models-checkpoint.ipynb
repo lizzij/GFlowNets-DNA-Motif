{
 "cells": [
  {
   "cell_type": "markdown",
   "metadata": {},
   "source": [
    "# Model Benchmarking with Kipoi\n",
    "Benchmark tf-binding models in Kipoi. Follow the set up steps in README.md to activate the `kipoi-shared__envs__kipoi-py3-keras2-tf1` conda environment and to upload Gibbs sampling and GFlowNets models."
   ]
  },
  {
   "cell_type": "markdown",
   "metadata": {},
   "source": [
    "## Load packages\n",
    "Load kipoi model zoo and evaluation packages."
   ]
  },
  {
   "cell_type": "code",
   "execution_count": 1,
   "metadata": {},
   "outputs": [],
   "source": [
    "import kipoi\n",
    "import numpy as np\n",
    "from sklearn.metrics import roc_auc_score"
   ]
  },
  {
   "cell_type": "markdown",
   "metadata": {},
   "source": [
    "## Load data files\n",
    "Use a labeled BED-format interval file and a genome fasta file.\n"
   ]
  },
  {
   "cell_type": "code",
   "execution_count": 2,
   "metadata": {},
   "outputs": [],
   "source": [
    "intervals_file = 'example_data/intervals.tsv'\n",
    "fasta_file = 'example_data/fasta.fa'\n",
    "dataloader_kwargs = {'intervals_file': intervals_file, 'fasta_file': fasta_file}"
   ]
  },
  {
   "cell_type": "markdown",
   "metadata": {},
   "source": [
    "Look at a few lines in the fasta file:"
   ]
  },
  {
   "cell_type": "code",
   "execution_count": 3,
   "metadata": {},
   "outputs": [
    {
     "name": "stdout",
     "output_type": "stream",
     "text": [
      ">chr22\r\n",
      "NNNNNNNNNNNNNNNNNNNNNNNNNNNNNNNNNNNNNNNNNNNNNNNNNN\r\n",
      "NNNNNNNNNNNNNNNNNNNNNNNNNNNNNNNNNNNNNNNNNNNNNNNNNN\r\n",
      "NNNNNNNNNNNNNNNNNNNNNNNNNNNNNNNNNNNNNNNNNNNNNNNNNN\r\n",
      "NNNNNNNNNNNNNNNNNNNNNNNNNNNNNNNNNNNNNNNNNNNNNNNNNN\r\n",
      "NNNNNNNNNNNNNNNNNNNNNNNNNNNNNNNNNNNNNNNNNNNNNNNNNN\r\n",
      "NNNNNNNNNNNNNNNNNNNNNNNNNNNNNNNNNNNNNNNNNNNNNNNNNN\r\n",
      "NNNNNNNNNNNNNNNNNNNNNNNNNNNNNNNNNNNNNNNNNNNNNNNNNN\r\n",
      "NNNNNNNNNNNNNNNNNNNNNNNNNNNNNNNNNNNNNNNNNNNNNNNNNN\r\n",
      "NNNNNNNNNNNNNNNNNNNNNNNNNNNNNNNNNNNNNNNNNNNNNNNNNN\r\n"
     ]
    }
   ],
   "source": [
    "!head $fasta_file"
   ]
  },
  {
   "cell_type": "markdown",
   "metadata": {},
   "source": [
    "Look at a few lines in the intervals file:"
   ]
  },
  {
   "cell_type": "code",
   "execution_count": 4,
   "metadata": {},
   "outputs": [
    {
     "name": "stdout",
     "output_type": "stream",
     "text": [
      "chr22\t20208963\t20209064\t0\r\n",
      "chr22\t29673572\t29673673\t0\r\n",
      "chr22\t28193720\t28193821\t0\r\n",
      "chr22\t43864274\t43864375\t0\r\n",
      "chr22\t18261550\t18261651\t0\r\n",
      "chr22\t7869409\t7869510\t0\r\n",
      "chr22\t49798024\t49798125\t0\r\n",
      "chr22\t43088594\t43088695\t0\r\n",
      "chr22\t35147671\t35147772\t0\r\n",
      "chr22\t49486843\t49486944\t0\r\n"
     ]
    }
   ],
   "source": [
    "!head $intervals_file"
   ]
  },
  {
   "cell_type": "markdown",
   "metadata": {},
   "source": [
    "The four columns in this file contain chromosomes, interval start coordinate, interval end coordinate, and the label. This file contains 2000 examples, 1000 positives and 1000 negatives.\n",
    "\n",
    "Load the labels from the last column:"
   ]
  },
  {
   "cell_type": "code",
   "execution_count": 5,
   "metadata": {},
   "outputs": [],
   "source": [
    "labels = np.loadtxt(intervals_file, usecols=(3,))"
   ]
  },
  {
   "cell_type": "markdown",
   "metadata": {},
   "source": [
    "## pwm_HOCOMOCO\n",
    "Simple PWM-scanning model PWM database: HOCOMOCO URL: http://hocomoco.autosome.ru/ Paper: Kulakovskiy et al 2015, HOCOMOCO: expansion and enhancement of the collection of transcription factor binding sites models: doi:10.1093/nar/gkv1249"
   ]
  },
  {
   "cell_type": "code",
   "execution_count": 9,
   "metadata": {},
   "outputs": [
    {
     "name": "stdout",
     "output_type": "stream",
     "text": [
      "Downloading https://zenodo.org/record/1466139/files/human-NANOG.h5?download=1 to /Users/zijinhuang/.kipoi/models/pwm_HOCOMOCO/downloaded/model_files/human/NANOG/weights/23e9580442d8fcccf683b7b8f744abaa\n"
     ]
    },
    {
     "name": "stderr",
     "output_type": "stream",
     "text": [
      "16.4kB [00:03, 5.39kB/s]                                                                                                                                     "
     ]
    },
    {
     "name": "stdout",
     "output_type": "stream",
     "text": [
      "WARNING:tensorflow:From /Users/zijinhuang/opt/anaconda3/envs/kipoi-shared__envs__kipoi-py3-keras2-tf1/lib/python3.7/site-packages/keras/backend/tensorflow_backend.py:68: The name tf.get_default_graph is deprecated. Please use tf.compat.v1.get_default_graph instead.\n",
      "\n"
     ]
    },
    {
     "name": "stderr",
     "output_type": "stream",
     "text": [
      "\n",
      "/Users/zijinhuang/opt/anaconda3/envs/kipoi-shared__envs__kipoi-py3-keras2-tf1/lib/python3.7/site-packages/keras/models.py:282: UserWarning: No training configuration found in save file: the model was *not* compiled. Compile it manually.\n",
      "  warnings.warn('No training configuration found in save file: '\n"
     ]
    }
   ],
   "source": [
    "## Load HOCOMOCO model\n",
    "pwm_model_name = 'pwm_HOCOMOCO/human/NANOG'\n",
    "pwm_model = kipoi.get_model(pwm_model_name)"
   ]
  },
  {
   "cell_type": "code",
   "execution_count": 10,
   "metadata": {},
   "outputs": [
    {
     "name": "stderr",
     "output_type": "stream",
     "text": [
      "2it [00:00,  2.32it/s]\n"
     ]
    }
   ],
   "source": [
    "## Get HOCOMOCO predictions\n",
    "pwm_predictions = pwm_model.pipeline.predict(dataloader_kwargs, batch_size=1000)"
   ]
  },
  {
   "cell_type": "code",
   "execution_count": 11,
   "metadata": {},
   "outputs": [
    {
     "data": {
      "text/plain": [
       "0.572797"
      ]
     },
     "execution_count": 11,
     "metadata": {},
     "output_type": "execute_result"
    }
   ],
   "source": [
    "## Evaluate HOCOMOCO predictions\n",
    "roc_auc_score(labels, pwm_predictions)"
   ]
  },
  {
   "cell_type": "markdown",
   "metadata": {},
   "source": [
    "## DeepBind\n",
    "Abstract: Knowing the sequence specificities of DNA- and RNA-binding proteins is essential for developing models of the regulatory processes in biological systems and for identifying causal disease variants. Here we show that sequence specificities can be ascertained from experimental data with 'deep learning' techniques, which offer a scalable, flexible and unified computational approach for pattern discovery. Using a diverse array of experimental data and evaluation metrics, we find that deep learning outperforms other state-of-the-art methods, even when training on in vitro data and testing on in vivo data. We call this approach DeepBind and have built a stand-alone software tool that is fully automatic and handles millions of sequences per experiment. Specificities determined by DeepBind are readily visualized as a weighted ensemble of position weight matrices or as a 'mutation map' that indicates how variations affect binding within a specific sequence."
   ]
  },
  {
   "cell_type": "code",
   "execution_count": 6,
   "metadata": {},
   "outputs": [
    {
     "name": "stdout",
     "output_type": "stream",
     "text": [
      "Already up to date.\n",
      "Using downloaded and verified file: /Users/zijinhuang/.kipoi/models/DeepBind/downloaded/model_files/Homo_sapiens/TF/D00786.001_ChIP-seq_NANOG/arch/24ee28e3c0e5aa02575959ca440bb043\n",
      "Using downloaded and verified file: /Users/zijinhuang/.kipoi/models/DeepBind/downloaded/model_files/Homo_sapiens/TF/D00786.001_ChIP-seq_NANOG/weights/8d27359f94cb8b2753c1912234638573\n"
     ]
    },
    {
     "name": "stderr",
     "output_type": "stream",
     "text": [
      "Using TensorFlow backend.\n"
     ]
    },
    {
     "name": "stdout",
     "output_type": "stream",
     "text": [
      "WARNING:tensorflow:From /Users/zijinhuang/opt/anaconda3/envs/kipoi-shared__envs__kipoi-py3-keras2-tf1/lib/python3.7/site-packages/keras/backend/tensorflow_backend.py:508: The name tf.placeholder is deprecated. Please use tf.compat.v1.placeholder instead.\n",
      "\n",
      "WARNING:tensorflow:From /Users/zijinhuang/opt/anaconda3/envs/kipoi-shared__envs__kipoi-py3-keras2-tf1/lib/python3.7/site-packages/keras/backend/tensorflow_backend.py:3837: The name tf.random_uniform is deprecated. Please use tf.random.uniform instead.\n",
      "\n",
      "WARNING:tensorflow:From /Users/zijinhuang/opt/anaconda3/envs/kipoi-shared__envs__kipoi-py3-keras2-tf1/lib/python3.7/site-packages/keras/backend/tensorflow_backend.py:3661: The name tf.nn.max_pool is deprecated. Please use tf.nn.max_pool2d instead.\n",
      "\n",
      "WARNING:tensorflow:From /Users/zijinhuang/opt/anaconda3/envs/kipoi-shared__envs__kipoi-py3-keras2-tf1/lib/python3.7/site-packages/keras/backend/tensorflow_backend.py:168: The name tf.get_default_session is deprecated. Please use tf.compat.v1.get_default_session instead.\n",
      "\n",
      "WARNING:tensorflow:From /Users/zijinhuang/opt/anaconda3/envs/kipoi-shared__envs__kipoi-py3-keras2-tf1/lib/python3.7/site-packages/keras/backend/tensorflow_backend.py:175: The name tf.ConfigProto is deprecated. Please use tf.compat.v1.ConfigProto instead.\n",
      "\n",
      "WARNING:tensorflow:From /Users/zijinhuang/opt/anaconda3/envs/kipoi-shared__envs__kipoi-py3-keras2-tf1/lib/python3.7/site-packages/keras/backend/tensorflow_backend.py:180: The name tf.Session is deprecated. Please use tf.compat.v1.Session instead.\n",
      "\n",
      "WARNING:tensorflow:From /Users/zijinhuang/opt/anaconda3/envs/kipoi-shared__envs__kipoi-py3-keras2-tf1/lib/python3.7/site-packages/keras/backend/tensorflow_backend.py:184: The name tf.global_variables is deprecated. Please use tf.compat.v1.global_variables instead.\n",
      "\n",
      "WARNING:tensorflow:From /Users/zijinhuang/opt/anaconda3/envs/kipoi-shared__envs__kipoi-py3-keras2-tf1/lib/python3.7/site-packages/keras/backend/tensorflow_backend.py:193: The name tf.is_variable_initialized is deprecated. Please use tf.compat.v1.is_variable_initialized instead.\n",
      "\n"
     ]
    },
    {
     "name": "stderr",
     "output_type": "stream",
     "text": [
      "2022-05-31 07:46:16.366272: I tensorflow/core/platform/cpu_feature_guard.cc:142] Your CPU supports instructions that this TensorFlow binary was not compiled to use: AVX2 FMA\n",
      "2022-05-31 07:46:16.470349: I tensorflow/compiler/xla/service/service.cc:168] XLA service 0x7fde53b6e6b0 initialized for platform Host (this does not guarantee that XLA will be used). Devices:\n",
      "2022-05-31 07:46:16.470369: I tensorflow/compiler/xla/service/service.cc:176]   StreamExecutor device (0): Host, Default Version\n"
     ]
    },
    {
     "name": "stdout",
     "output_type": "stream",
     "text": [
      "WARNING:tensorflow:From /Users/zijinhuang/opt/anaconda3/envs/kipoi-shared__envs__kipoi-py3-keras2-tf1/lib/python3.7/site-packages/keras/backend/tensorflow_backend.py:200: The name tf.variables_initializer is deprecated. Please use tf.compat.v1.variables_initializer instead.\n",
      "\n"
     ]
    }
   ],
   "source": [
    "## Load DeepBind model\n",
    "deepbind_model_name = 'DeepBind/Homo_sapiens/TF/D00786.001_ChIP-seq_NANOG'\n",
    "deepbind_model = kipoi.get_model(deepbind_model_name)"
   ]
  },
  {
   "cell_type": "code",
   "execution_count": 7,
   "metadata": {},
   "outputs": [
    {
     "name": "stderr",
     "output_type": "stream",
     "text": [
      "2it [00:04,  2.01s/it]\n"
     ]
    }
   ],
   "source": [
    "## Get DeepBind predictions\n",
    "deepbind_predictions = deepbind_model.pipeline.predict(dataloader_kwargs, batch_size=1000)"
   ]
  },
  {
   "cell_type": "code",
   "execution_count": 8,
   "metadata": {},
   "outputs": [
    {
     "data": {
      "text/plain": [
       "0.6805905000000001"
      ]
     },
     "execution_count": 8,
     "metadata": {},
     "output_type": "execute_result"
    }
   ],
   "source": [
    "## Evaluate DeepBind predictions\n",
    "roc_auc_score(labels, deepbind_predictions)"
   ]
  },
  {
   "cell_type": "markdown",
   "metadata": {},
   "source": [
    "## lsgkm-SVM\n",
    "lsgkm-SVM model trained on the ENCODE datasets - no sample number limitation as opposed to gkm-SVM publication. Datasets downloaded from http://ftp.ebi.ac.uk/pub/databases/ensembl/encode/integration_data_jan2011/byDataType/peaks/jan2011/spp/optimal/hub/. All files were then processed using genNullSeqs(...,nMaxTrials=20,xfold=1,genomeVersion=\"hg19\") from the gkmSVM package version 0.79.0. For training all chromosomes except chr8 and chr9 were used."
   ]
  },
  {
   "cell_type": "code",
   "execution_count": 12,
   "metadata": {},
   "outputs": [
    {
     "name": "stdout",
     "output_type": "stream",
     "text": [
      "Downloading https://zenodo.org/record/1466097/files/wgEncodeHaibTfbsH1hescNanogsc33759V0416102AlnRep0_train_gS_11_3_1.model.txt?download=1 to /Users/zijinhuang/.kipoi/models/lsgkm-SVM/downloaded/model_files/Tfbs/Nanogsc33759/H1hesc/Haib_V0416102/model_file/d8405363fb73307fa96ae674b7104632\n"
     ]
    },
    {
     "name": "stderr",
     "output_type": "stream",
     "text": [
      "2.59MB [00:10, 250kB/s]                                                                                                                                      \n"
     ]
    }
   ],
   "source": [
    "## Load lsgkm-SVM model\n",
    "lsgkm_svm_model_name = 'lsgkm-SVM/Tfbs/Nanogsc33759/H1hesc/Haib_V0416102'\n",
    "lsgkm_svm_model = kipoi.get_model(lsgkm_svm_model_name)"
   ]
  },
  {
   "cell_type": "code",
   "execution_count": 31,
   "metadata": {},
   "outputs": [
    {
     "name": "stderr",
     "output_type": "stream",
     "text": [
      "0it [00:00, ?it/s]Wrong number of arguments [7].\n",
      "1it [00:01,  1.31s/it]"
     ]
    },
    {
     "name": "stdout",
     "output_type": "stream",
     "text": [
      "\n",
      "Usage: gkmpredict [options] <test_seqfile> <model_file> <output_file>\n",
      "\n",
      " score test sequences using trained gkm-SVM\n",
      "\n",
      "Arguments:\n",
      " test_seqfile: sequence file for test (fasta format)\n",
      " model_file: output of gkmtrain\n",
      " output_file: name of output file\n",
      "\n",
      "Options:\n",
      " -v <0|1|2|3|4>  set the level of verbosity (default: 2)\n",
      "                   0 -- error msgs only (ERROR)\n",
      "                   1 -- warning msgs (WARN)\n",
      "                   2 -- progress msgs at coarse-grained level (INFO)\n",
      "                   3 -- progress msgs at fine-grained level (DEBUG)\n",
      "                   4 -- progress msgs at finer-grained level (TRACE)\n",
      "-T <1|4|16>      set the number of threads for parallel calculation, 1, 4, or 16\n",
      "                 (default: 1)\n",
      "\n"
     ]
    },
    {
     "name": "stderr",
     "output_type": "stream",
     "text": [
      "Wrong number of arguments [7].\n",
      "2it [00:01,  1.09it/s]"
     ]
    },
    {
     "name": "stdout",
     "output_type": "stream",
     "text": [
      "\n",
      "Usage: gkmpredict [options] <test_seqfile> <model_file> <output_file>\n",
      "\n",
      " score test sequences using trained gkm-SVM\n",
      "\n",
      "Arguments:\n",
      " test_seqfile: sequence file for test (fasta format)\n",
      " model_file: output of gkmtrain\n",
      " output_file: name of output file\n",
      "\n",
      "Options:\n",
      " -v <0|1|2|3|4>  set the level of verbosity (default: 2)\n",
      "                   0 -- error msgs only (ERROR)\n",
      "                   1 -- warning msgs (WARN)\n",
      "                   2 -- progress msgs at coarse-grained level (INFO)\n",
      "                   3 -- progress msgs at fine-grained level (DEBUG)\n",
      "                   4 -- progress msgs at finer-grained level (TRACE)\n",
      "-T <1|4|16>      set the number of threads for parallel calculation, 1, 4, or 16\n",
      "                 (default: 1)\n",
      "\n"
     ]
    },
    {
     "name": "stderr",
     "output_type": "stream",
     "text": [
      "\n"
     ]
    }
   ],
   "source": [
    "## Get lsgkm-SVM predictions\n",
    "lsgkm_svm_predictions = lsgkm_svm_model.pipeline.predict(dataloader_kwargs, batch_size=1000)"
   ]
  },
  {
   "cell_type": "code",
   "execution_count": 33,
   "metadata": {},
   "outputs": [
    {
     "name": "stdout",
     "output_type": "stream",
     "text": [
      "0.73245608\n"
     ]
    }
   ],
   "source": [
    "## Evaluate lsgkm-SVM predictions\n",
    "roc_auc_score(labels, lsgkm_svm_predictions)"
   ]
  },
  {
   "cell_type": "markdown",
   "metadata": {},
   "source": [
    "## DeepSEA\n",
    "This CNN is based on the DeepSEA model from Zhou and Troyanskaya (2015). The model has been converted to a pytorch model on a modified version of https://github.com/clcarwin/convert_torch_to_pytorch Use this model only for predictions of sequences, not for variant effect prediction. The model automatically generates reverse-complement and averages over forward and reverse-complement to results from the website. To predict variant effects use the DeepSEA/variantEffects model. It categorically predicts 919 cell type-specific epigenetic features from DNA sequence. The model is trained on publicly available ENCODE and Roadmap Epigenomics data and on DNA sequences of size 1000bp. The input of the tensor has to be (N, 4, 1, 1000) for N samples, 1000bp window size and 4 nucleotides. Per sample, 919 probabilities of a specific epigentic feature will be predicted."
   ]
  },
  {
   "cell_type": "code",
   "execution_count": 24,
   "metadata": {},
   "outputs": [
    {
     "name": "stdout",
     "output_type": "stream",
     "text": [
      "Using downloaded and verified file: /Users/zijinhuang/.kipoi/models/DeepSEA/predict/downloaded/model_files/weights/89e640bf6bdbe1ff165f484d9796efc7\n"
     ]
    },
    {
     "name": "stderr",
     "output_type": "stream",
     "text": [
      "/Users/zijinhuang/opt/anaconda3/envs/kipoi-shared__envs__kipoi-py3-keras2-tf1/lib/python3.7/site-packages/tqdm/auto.py:22: TqdmWarning: IProgress not found. Please update jupyter and ipywidgets. See https://ipywidgets.readthedocs.io/en/stable/user_install.html\n",
      "  from .autonotebook import tqdm as notebook_tqdm\n"
     ]
    }
   ],
   "source": [
    "## Load DeepSEA model\n",
    "deepsea_model_name = 'DeepSEA/predict'\n",
    "deepsea_model = kipoi.get_model(deepsea_model_name)"
   ]
  },
  {
   "cell_type": "code",
   "execution_count": 25,
   "metadata": {},
   "outputs": [
    {
     "name": "stderr",
     "output_type": "stream",
     "text": [
      "2it [02:15, 67.94s/it]\n"
     ]
    }
   ],
   "source": [
    "## Get DeepSEA predictions\n",
    "deepsea_predictions = deepsea_model.pipeline.predict(dataloader_kwargs, batch_size=1000)"
   ]
  },
  {
   "cell_type": "code",
   "execution_count": 34,
   "metadata": {},
   "outputs": [
    {
     "name": "stdout",
     "output_type": "stream",
     "text": [
      "0.8234910\n"
     ]
    }
   ],
   "source": [
    "## Evaluate DeepSEA predictions\n",
    "roc_auc_score(labels, deepsea_predictions)"
   ]
  },
  {
   "cell_type": "markdown",
   "metadata": {},
   "source": [
    "## BPNet\n",
    "Train and interpret base-resolution deep neural networks trained on functional genomics data such as ChIP-nexus or ChIP-seq. It addresses the problem of pinpointing the regulatory elements in the genome."
   ]
  },
  {
   "cell_type": "code",
   "execution_count": 35,
   "metadata": {},
   "outputs": [
    {
     "name": "stdout",
     "output_type": "stream",
     "text": [
      "Using downloaded and verified file: /Users/zijinhuang/.kipoi/models/BPNet-OSKN/downloaded/model_files/model_file/bbe883baef261877bfad07d05feb627d\n"
     ]
    }
   ],
   "source": [
    "## Load BPNet model\n",
    "bpnet_model_name = 'BPNet-OSKN'\n",
    "bpnet_model = kipoi.get_model(bpnet_model_name)"
   ]
  },
  {
   "cell_type": "code",
   "execution_count": 36,
   "metadata": {},
   "outputs": [],
   "source": [
    "## Get BPNet predictions\n",
    "bpnet_predictions = bpnet_model.pipeline.predict(dataloader_kwargs, batch_size=1000)"
   ]
  },
  {
   "cell_type": "code",
   "execution_count": 43,
   "metadata": {},
   "outputs": [
    {
     "name": "stdout",
     "output_type": "stream",
     "text": [
      "0.85910128\n"
     ]
    }
   ],
   "source": [
    "## Evaluate BPNet predictions\n",
    "roc_auc_score(labels, bpnet_predictions)"
   ]
  },
  {
   "cell_type": "markdown",
   "metadata": {},
   "source": [
    "## GFlowNets\n",
    "Save MCMC model and Gibbs sampling model according to steps in README."
   ]
  },
  {
   "cell_type": "code",
   "execution_count": 41,
   "metadata": {},
   "outputs": [],
   "source": [
    "## Load GFlowNets model\n",
    "gflownets_model_name = 'GFlowNets'\n",
    "gflownets_model = kipoi.get_model(gflownets_model_name)"
   ]
  },
  {
   "cell_type": "code",
   "execution_count": 42,
   "metadata": {},
   "outputs": [],
   "source": [
    "## Get GFlowNets predictions\n",
    "gflownets_predictions = gflownets_model.pipeline.predict(dataloader_kwargs, batch_size=1000)"
   ]
  },
  {
   "cell_type": "code",
   "execution_count": 44,
   "metadata": {},
   "outputs": [
    {
     "name": "stdout",
     "output_type": "stream",
     "text": [
      "0.563295\n"
     ]
    }
   ],
   "source": [
    "## Evaluate GFlowNets predictions\n",
    "roc_auc_score(labels, gflownets_predictions)"
   ]
  },
  {
   "cell_type": "markdown",
   "metadata": {},
   "source": [
    "## Gibbs Sampling\n",
    "Save MCMC model and Gibbs sampling model according to steps in README."
   ]
  },
  {
   "cell_type": "code",
   "execution_count": 45,
   "metadata": {},
   "outputs": [],
   "source": [
    "## Load Gibbs sampling model\n",
    "gibbs_sampling_model_name = 'Gibbs-Sampling'\n",
    "gibbs_sampling_model = kipoi.get_model(gibbs_sampling_model_name)"
   ]
  },
  {
   "cell_type": "code",
   "execution_count": 46,
   "metadata": {},
   "outputs": [],
   "source": [
    "## Get Gibbs Sampling predictions\n",
    "gibbs_sampling_predictions = gibbs_sampling_model.pipeline.predict(dataloader_kwargs, batch_size=1000)"
   ]
  },
  {
   "cell_type": "code",
   "execution_count": 47,
   "metadata": {},
   "outputs": [
    {
     "name": "stdout",
     "output_type": "stream",
     "text": [
      "0.5289708\n"
     ]
    }
   ],
   "source": [
    "## Evaluate Gibbs Sampling predictions\n",
    "roc_auc_score(labels, gibbs_sampling_predictions)"
   ]
  }
 ],
 "metadata": {
  "kernelspec": {
   "display_name": "kipoi-shared__envs__kipoi-py3-keras2-tf1",
   "language": "python",
   "name": "kipoi-shared__envs__kipoi-py3-keras2-tf1"
  },
  "language_info": {
   "codemirror_mode": {
    "name": "ipython",
    "version": 3
   },
   "file_extension": ".py",
   "mimetype": "text/x-python",
   "name": "python",
   "nbconvert_exporter": "python",
   "pygments_lexer": "ipython3",
   "version": "3.7.13"
  }
 },
 "nbformat": 4,
 "nbformat_minor": 4
}
